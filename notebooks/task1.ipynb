{
 "cells": [
  {
   "cell_type": "code",
   "execution_count": 2,
   "id": "f0bd2766",
   "metadata": {},
   "outputs": [],
   "source": [
    "import pandas as pd\n",
    "from sklearn.model_selection import train_test_split\n",
    "from sklearn.pipeline import make_pipeline, Pipeline\n",
    "from sklearn.compose import ColumnTransformer\n",
    "from sklearn.preprocessing import RobustScaler\n",
    "from sklearn.impute import SimpleImputer\n",
    "from sklearn.tree import DecisionTreeRegressor\n",
    "from sklearn.base import TransformerMixin, BaseEstimator\n",
    "from imblearn.over_sampling import SMOTENC\n",
    "import sys\n",
    "sys.path.append('..')\n",
    "import flood_tool as ft\n",
    "import os\n",
    "\n",
    "df = pd.read_csv(os.path.join(ft._data_dir,'postcodes_labelled.csv'))"
   ]
  },
  {
   "cell_type": "code",
   "execution_count": 3,
   "id": "53df7050",
   "metadata": {},
   "outputs": [],
   "source": [
    "# define features and target\n",
    "X = df.drop(columns=['riskLabel', 'localAuthority', 'medianPrice', 'historicallyFlooded', 'postcode'])\n",
    "y = df.riskLabel"
   ]
  },
  {
   "cell_type": "code",
   "execution_count": 4,
   "id": "27470f3b",
   "metadata": {},
   "outputs": [
    {
     "data": {
      "text/plain": [
       "Index(['easting', 'northing', 'soilType', 'elevation'], dtype='object')"
      ]
     },
     "execution_count": 4,
     "metadata": {},
     "output_type": "execute_result"
    }
   ],
   "source": [
    "X.columns"
   ]
  },
  {
   "cell_type": "code",
   "execution_count": 5,
   "id": "f7ba003b",
   "metadata": {},
   "outputs": [],
   "source": [
    "# Split the Data in training and testing data\n",
    "X_train, X_test, y_train, y_test = train_test_split(X, y, train_size=.8, random_state=42)"
   ]
  },
  {
   "cell_type": "markdown",
   "id": "64e512e5",
   "metadata": {},
   "source": [
    "Regression:"
   ]
  },
  {
   "cell_type": "code",
   "execution_count": 6,
   "id": "47b0481d",
   "metadata": {},
   "outputs": [],
   "source": [
    "# Define which columns contain numerical/categorical data\n",
    "num_data_train = X_train.select_dtypes(include=['int64']).columns.tolist()\n",
    "cat_data_train = X_train.select_dtypes(include=['object']).columns.tolist()"
   ]
  },
  {
   "cell_type": "code",
   "execution_count": 7,
   "id": "68196da7",
   "metadata": {},
   "outputs": [],
   "source": [
    "category_mapping = {'soilType': [\n",
    "'Luvisols',\n",
    "'Cambisols',\n",
    "'Arenosols',\n",
    "'Leptosols',\n",
    "'Podsols',\n",
    "'Planosols',\n",
    "'Stagnosols',\n",
    "'Gleysols',\n",
    "'Histosols',\n",
    "'Unsurveyed/Urban']\n",
    "}\n",
    "cat_features_to_ordinal = ['soilType']"
   ]
  },
  {
   "cell_type": "code",
   "execution_count": 8,
   "id": "47904afd",
   "metadata": {},
   "outputs": [],
   "source": [
    "class OrdinalTransformer(TransformerMixin, BaseEstimator):\n",
    "    \n",
    "    def __init__(self, category_mapping, unknown='ignore'):\n",
    "        self.category_mapping = category_mapping\n",
    "        self.unknown = unknown\n",
    "        self.category_dicts = {col: {cat: idx for idx, cat in enumerate(categories)} for col, categories in category_mapping.items()}\n",
    " \n",
    "    def fit(self, X=None, y=None):\n",
    "        return self\n",
    " \n",
    "    def transform(self, X, y=None):\n",
    "        X = pd.DataFrame(X, columns=['soilType'])\n",
    "        print(type(X))\n",
    "        X_transformed = X.copy()\n",
    "        for col, categories in self.category_mapping.items():\n",
    "            X_transformed[col] = X[col].apply(lambda x: self.category_dicts[col].get(x, self.handle_unknown(col, x)))\n",
    "        return X_transformed\n",
    " \n",
    "    def handle_unknown(self, column, value):\n",
    "        if self.unknown == 'ignore':\n",
    "            return value\n",
    "        elif self.unknown == 'use_max':\n",
    "            return max(self.category_dicts[column].values()) + 1\n",
    "        else:\n",
    "            raise ValueError(f\"Unknown handling mode '{self.unknown}' not supported.\")"
   ]
  },
  {
   "cell_type": "code",
   "execution_count": 9,
   "id": "a43c37bb",
   "metadata": {},
   "outputs": [],
   "source": [
    "# Create pipeline for numerical data \n",
    "\n",
    "num_pipe = make_pipeline(SimpleImputer(), RobustScaler())\n",
    "\n",
    "\n",
    "# Create pipeline for categorical data\n",
    "               \n",
    "cat_pipeline = ColumnTransformer([\n",
    "        ('ordinal', make_pipeline(SimpleImputer(strategy = 'most_frequent'), OrdinalTransformer(category_mapping)), cat_features_to_ordinal)\n",
    "        ])\n",
    "# Combine both Pipelines\n",
    "\n",
    "complete_pipe = ColumnTransformer([('num',num_pipe,num_data_train),\n",
    "                                  ('cat', cat_pipeline,cat_data_train)], remainder='passthrough')"
   ]
  },
  {
   "cell_type": "code",
   "execution_count": 10,
   "id": "9b1b5f39",
   "metadata": {},
   "outputs": [],
   "source": [
    "# Define regressor \n",
    "\n",
    "regressor = DecisionTreeRegressor(\n",
    "    random_state=42,\n",
    "    ccp_alpha=0.0,\n",
    "    criterion='squared_error',\n",
    "    max_depth=None,\n",
    "    max_features=None,\n",
    "    max_leaf_nodes=None,\n",
    "    min_impurity_decrease=0.0,\n",
    "    min_samples_leaf=1,\n",
    "    min_samples_split=2,\n",
    "    min_weight_fraction_leaf=0.0,\n",
    "    splitter='best'\n",
    ")"
   ]
  },
  {
   "cell_type": "code",
   "execution_count": 11,
   "id": "01eb25f0",
   "metadata": {},
   "outputs": [],
   "source": [
    "# Combine Regressor and Preprocessor\n",
    "regression_model = Pipeline([\n",
    "    ('preprocessing', complete_pipe),\n",
    "    ('regressor', regressor)])"
   ]
  },
  {
   "cell_type": "code",
   "execution_count": 12,
   "id": "9f8f1cfa",
   "metadata": {},
   "outputs": [
    {
     "name": "stdout",
     "output_type": "stream",
     "text": [
      "<class 'pandas.core.frame.DataFrame'>\n"
     ]
    },
    {
     "data": {
      "text/html": [
       "<style>#sk-container-id-1 {color: black;background-color: white;}#sk-container-id-1 pre{padding: 0;}#sk-container-id-1 div.sk-toggleable {background-color: white;}#sk-container-id-1 label.sk-toggleable__label {cursor: pointer;display: block;width: 100%;margin-bottom: 0;padding: 0.3em;box-sizing: border-box;text-align: center;}#sk-container-id-1 label.sk-toggleable__label-arrow:before {content: \"▸\";float: left;margin-right: 0.25em;color: #696969;}#sk-container-id-1 label.sk-toggleable__label-arrow:hover:before {color: black;}#sk-container-id-1 div.sk-estimator:hover label.sk-toggleable__label-arrow:before {color: black;}#sk-container-id-1 div.sk-toggleable__content {max-height: 0;max-width: 0;overflow: hidden;text-align: left;background-color: #f0f8ff;}#sk-container-id-1 div.sk-toggleable__content pre {margin: 0.2em;color: black;border-radius: 0.25em;background-color: #f0f8ff;}#sk-container-id-1 input.sk-toggleable__control:checked~div.sk-toggleable__content {max-height: 200px;max-width: 100%;overflow: auto;}#sk-container-id-1 input.sk-toggleable__control:checked~label.sk-toggleable__label-arrow:before {content: \"▾\";}#sk-container-id-1 div.sk-estimator input.sk-toggleable__control:checked~label.sk-toggleable__label {background-color: #d4ebff;}#sk-container-id-1 div.sk-label input.sk-toggleable__control:checked~label.sk-toggleable__label {background-color: #d4ebff;}#sk-container-id-1 input.sk-hidden--visually {border: 0;clip: rect(1px 1px 1px 1px);clip: rect(1px, 1px, 1px, 1px);height: 1px;margin: -1px;overflow: hidden;padding: 0;position: absolute;width: 1px;}#sk-container-id-1 div.sk-estimator {font-family: monospace;background-color: #f0f8ff;border: 1px dotted black;border-radius: 0.25em;box-sizing: border-box;margin-bottom: 0.5em;}#sk-container-id-1 div.sk-estimator:hover {background-color: #d4ebff;}#sk-container-id-1 div.sk-parallel-item::after {content: \"\";width: 100%;border-bottom: 1px solid gray;flex-grow: 1;}#sk-container-id-1 div.sk-label:hover label.sk-toggleable__label {background-color: #d4ebff;}#sk-container-id-1 div.sk-serial::before {content: \"\";position: absolute;border-left: 1px solid gray;box-sizing: border-box;top: 0;bottom: 0;left: 50%;z-index: 0;}#sk-container-id-1 div.sk-serial {display: flex;flex-direction: column;align-items: center;background-color: white;padding-right: 0.2em;padding-left: 0.2em;position: relative;}#sk-container-id-1 div.sk-item {position: relative;z-index: 1;}#sk-container-id-1 div.sk-parallel {display: flex;align-items: stretch;justify-content: center;background-color: white;position: relative;}#sk-container-id-1 div.sk-item::before, #sk-container-id-1 div.sk-parallel-item::before {content: \"\";position: absolute;border-left: 1px solid gray;box-sizing: border-box;top: 0;bottom: 0;left: 50%;z-index: -1;}#sk-container-id-1 div.sk-parallel-item {display: flex;flex-direction: column;z-index: 1;position: relative;background-color: white;}#sk-container-id-1 div.sk-parallel-item:first-child::after {align-self: flex-end;width: 50%;}#sk-container-id-1 div.sk-parallel-item:last-child::after {align-self: flex-start;width: 50%;}#sk-container-id-1 div.sk-parallel-item:only-child::after {width: 0;}#sk-container-id-1 div.sk-dashed-wrapped {border: 1px dashed gray;margin: 0 0.4em 0.5em 0.4em;box-sizing: border-box;padding-bottom: 0.4em;background-color: white;}#sk-container-id-1 div.sk-label label {font-family: monospace;font-weight: bold;display: inline-block;line-height: 1.2em;}#sk-container-id-1 div.sk-label-container {text-align: center;}#sk-container-id-1 div.sk-container {/* jupyter's `normalize.less` sets `[hidden] { display: none; }` but bootstrap.min.css set `[hidden] { display: none !important; }` so we also need the `!important` here to be able to override the default hidden behavior on the sphinx rendered scikit-learn.org. See: https://github.com/scikit-learn/scikit-learn/issues/21755 */display: inline-block !important;position: relative;}#sk-container-id-1 div.sk-text-repr-fallback {display: none;}</style><div id=\"sk-container-id-1\" class=\"sk-top-container\"><div class=\"sk-text-repr-fallback\"><pre>Pipeline(steps=[(&#x27;preprocessing&#x27;,\n",
       "                 ColumnTransformer(remainder=&#x27;passthrough&#x27;,\n",
       "                                   transformers=[(&#x27;num&#x27;,\n",
       "                                                  Pipeline(steps=[(&#x27;simpleimputer&#x27;,\n",
       "                                                                   SimpleImputer()),\n",
       "                                                                  (&#x27;robustscaler&#x27;,\n",
       "                                                                   RobustScaler())]),\n",
       "                                                  [&#x27;easting&#x27;, &#x27;northing&#x27;,\n",
       "                                                   &#x27;elevation&#x27;]),\n",
       "                                                 (&#x27;cat&#x27;,\n",
       "                                                  ColumnTransformer(transformers=[(&#x27;ordinal&#x27;,\n",
       "                                                                                   Pipeline(steps=[(&#x27;simpleimputer&#x27;,\n",
       "                                                                                                    SimpleImputer(strategy=&#x27;most_frequent&#x27;)),\n",
       "                                                                                                   (&#x27;ordinaltransformer&#x27;,\n",
       "                                                                                                    OrdinalTransformer(category_mapping={&#x27;soilType&#x27;: [&#x27;Luvisols&#x27;,\n",
       "                                                                                                                                                      &#x27;Cambisols&#x27;,\n",
       "                                                                                                                                                      &#x27;Arenosols&#x27;,\n",
       "                                                                                                                                                      &#x27;Leptosols&#x27;,\n",
       "                                                                                                                                                      &#x27;Podsols&#x27;,\n",
       "                                                                                                                                                      &#x27;Planosols&#x27;,\n",
       "                                                                                                                                                      &#x27;Stagnosols&#x27;,\n",
       "                                                                                                                                                      &#x27;Gleysols&#x27;,\n",
       "                                                                                                                                                      &#x27;Histosols&#x27;,\n",
       "                                                                                                                                                      &#x27;Unsurveyed/Urban&#x27;]}))]),\n",
       "                                                                                   [&#x27;soilType&#x27;])]),\n",
       "                                                  [&#x27;soilType&#x27;])])),\n",
       "                (&#x27;regressor&#x27;, DecisionTreeRegressor(random_state=42))])</pre><b>In a Jupyter environment, please rerun this cell to show the HTML representation or trust the notebook. <br />On GitHub, the HTML representation is unable to render, please try loading this page with nbviewer.org.</b></div><div class=\"sk-container\" hidden><div class=\"sk-item sk-dashed-wrapped\"><div class=\"sk-label-container\"><div class=\"sk-label sk-toggleable\"><input class=\"sk-toggleable__control sk-hidden--visually\" id=\"sk-estimator-id-1\" type=\"checkbox\" ><label for=\"sk-estimator-id-1\" class=\"sk-toggleable__label sk-toggleable__label-arrow\">Pipeline</label><div class=\"sk-toggleable__content\"><pre>Pipeline(steps=[(&#x27;preprocessing&#x27;,\n",
       "                 ColumnTransformer(remainder=&#x27;passthrough&#x27;,\n",
       "                                   transformers=[(&#x27;num&#x27;,\n",
       "                                                  Pipeline(steps=[(&#x27;simpleimputer&#x27;,\n",
       "                                                                   SimpleImputer()),\n",
       "                                                                  (&#x27;robustscaler&#x27;,\n",
       "                                                                   RobustScaler())]),\n",
       "                                                  [&#x27;easting&#x27;, &#x27;northing&#x27;,\n",
       "                                                   &#x27;elevation&#x27;]),\n",
       "                                                 (&#x27;cat&#x27;,\n",
       "                                                  ColumnTransformer(transformers=[(&#x27;ordinal&#x27;,\n",
       "                                                                                   Pipeline(steps=[(&#x27;simpleimputer&#x27;,\n",
       "                                                                                                    SimpleImputer(strategy=&#x27;most_frequent&#x27;)),\n",
       "                                                                                                   (&#x27;ordinaltransformer&#x27;,\n",
       "                                                                                                    OrdinalTransformer(category_mapping={&#x27;soilType&#x27;: [&#x27;Luvisols&#x27;,\n",
       "                                                                                                                                                      &#x27;Cambisols&#x27;,\n",
       "                                                                                                                                                      &#x27;Arenosols&#x27;,\n",
       "                                                                                                                                                      &#x27;Leptosols&#x27;,\n",
       "                                                                                                                                                      &#x27;Podsols&#x27;,\n",
       "                                                                                                                                                      &#x27;Planosols&#x27;,\n",
       "                                                                                                                                                      &#x27;Stagnosols&#x27;,\n",
       "                                                                                                                                                      &#x27;Gleysols&#x27;,\n",
       "                                                                                                                                                      &#x27;Histosols&#x27;,\n",
       "                                                                                                                                                      &#x27;Unsurveyed/Urban&#x27;]}))]),\n",
       "                                                                                   [&#x27;soilType&#x27;])]),\n",
       "                                                  [&#x27;soilType&#x27;])])),\n",
       "                (&#x27;regressor&#x27;, DecisionTreeRegressor(random_state=42))])</pre></div></div></div><div class=\"sk-serial\"><div class=\"sk-item sk-dashed-wrapped\"><div class=\"sk-label-container\"><div class=\"sk-label sk-toggleable\"><input class=\"sk-toggleable__control sk-hidden--visually\" id=\"sk-estimator-id-2\" type=\"checkbox\" ><label for=\"sk-estimator-id-2\" class=\"sk-toggleable__label sk-toggleable__label-arrow\">preprocessing: ColumnTransformer</label><div class=\"sk-toggleable__content\"><pre>ColumnTransformer(remainder=&#x27;passthrough&#x27;,\n",
       "                  transformers=[(&#x27;num&#x27;,\n",
       "                                 Pipeline(steps=[(&#x27;simpleimputer&#x27;,\n",
       "                                                  SimpleImputer()),\n",
       "                                                 (&#x27;robustscaler&#x27;,\n",
       "                                                  RobustScaler())]),\n",
       "                                 [&#x27;easting&#x27;, &#x27;northing&#x27;, &#x27;elevation&#x27;]),\n",
       "                                (&#x27;cat&#x27;,\n",
       "                                 ColumnTransformer(transformers=[(&#x27;ordinal&#x27;,\n",
       "                                                                  Pipeline(steps=[(&#x27;simpleimputer&#x27;,\n",
       "                                                                                   SimpleImputer(strategy=&#x27;most_frequent&#x27;)),\n",
       "                                                                                  (&#x27;ordinaltransformer&#x27;,\n",
       "                                                                                   OrdinalTransformer(category_mapping={&#x27;soilType&#x27;: [&#x27;Luvisols&#x27;,\n",
       "                                                                                                                                     &#x27;Cambisols&#x27;,\n",
       "                                                                                                                                     &#x27;Arenosols&#x27;,\n",
       "                                                                                                                                     &#x27;Leptosols&#x27;,\n",
       "                                                                                                                                     &#x27;Podsols&#x27;,\n",
       "                                                                                                                                     &#x27;Planosols&#x27;,\n",
       "                                                                                                                                     &#x27;Stagnosols&#x27;,\n",
       "                                                                                                                                     &#x27;Gleysols&#x27;,\n",
       "                                                                                                                                     &#x27;Histosols&#x27;,\n",
       "                                                                                                                                     &#x27;Unsurveyed/Urban&#x27;]}))]),\n",
       "                                                                  [&#x27;soilType&#x27;])]),\n",
       "                                 [&#x27;soilType&#x27;])])</pre></div></div></div><div class=\"sk-parallel\"><div class=\"sk-parallel-item\"><div class=\"sk-item\"><div class=\"sk-label-container\"><div class=\"sk-label sk-toggleable\"><input class=\"sk-toggleable__control sk-hidden--visually\" id=\"sk-estimator-id-3\" type=\"checkbox\" ><label for=\"sk-estimator-id-3\" class=\"sk-toggleable__label sk-toggleable__label-arrow\">num</label><div class=\"sk-toggleable__content\"><pre>[&#x27;easting&#x27;, &#x27;northing&#x27;, &#x27;elevation&#x27;]</pre></div></div></div><div class=\"sk-serial\"><div class=\"sk-item\"><div class=\"sk-serial\"><div class=\"sk-item\"><div class=\"sk-estimator sk-toggleable\"><input class=\"sk-toggleable__control sk-hidden--visually\" id=\"sk-estimator-id-4\" type=\"checkbox\" ><label for=\"sk-estimator-id-4\" class=\"sk-toggleable__label sk-toggleable__label-arrow\">SimpleImputer</label><div class=\"sk-toggleable__content\"><pre>SimpleImputer()</pre></div></div></div><div class=\"sk-item\"><div class=\"sk-estimator sk-toggleable\"><input class=\"sk-toggleable__control sk-hidden--visually\" id=\"sk-estimator-id-5\" type=\"checkbox\" ><label for=\"sk-estimator-id-5\" class=\"sk-toggleable__label sk-toggleable__label-arrow\">RobustScaler</label><div class=\"sk-toggleable__content\"><pre>RobustScaler()</pre></div></div></div></div></div></div></div></div><div class=\"sk-parallel-item\"><div class=\"sk-item\"><div class=\"sk-label-container\"><div class=\"sk-label sk-toggleable\"><input class=\"sk-toggleable__control sk-hidden--visually\" id=\"sk-estimator-id-6\" type=\"checkbox\" ><label for=\"sk-estimator-id-6\" class=\"sk-toggleable__label sk-toggleable__label-arrow\">cat</label><div class=\"sk-toggleable__content\"><pre>[&#x27;soilType&#x27;]</pre></div></div></div><div class=\"sk-serial\"><div class=\"sk-item sk-dashed-wrapped\"><div class=\"sk-parallel\"><div class=\"sk-parallel-item\"><div class=\"sk-item\"><div class=\"sk-label-container\"><div class=\"sk-label sk-toggleable\"><input class=\"sk-toggleable__control sk-hidden--visually\" id=\"sk-estimator-id-7\" type=\"checkbox\" ><label for=\"sk-estimator-id-7\" class=\"sk-toggleable__label sk-toggleable__label-arrow\">ordinal</label><div class=\"sk-toggleable__content\"><pre>[&#x27;soilType&#x27;]</pre></div></div></div><div class=\"sk-serial\"><div class=\"sk-item\"><div class=\"sk-serial\"><div class=\"sk-item\"><div class=\"sk-estimator sk-toggleable\"><input class=\"sk-toggleable__control sk-hidden--visually\" id=\"sk-estimator-id-8\" type=\"checkbox\" ><label for=\"sk-estimator-id-8\" class=\"sk-toggleable__label sk-toggleable__label-arrow\">SimpleImputer</label><div class=\"sk-toggleable__content\"><pre>SimpleImputer(strategy=&#x27;most_frequent&#x27;)</pre></div></div></div><div class=\"sk-item\"><div class=\"sk-estimator sk-toggleable\"><input class=\"sk-toggleable__control sk-hidden--visually\" id=\"sk-estimator-id-9\" type=\"checkbox\" ><label for=\"sk-estimator-id-9\" class=\"sk-toggleable__label sk-toggleable__label-arrow\">OrdinalTransformer</label><div class=\"sk-toggleable__content\"><pre>OrdinalTransformer(category_mapping={&#x27;soilType&#x27;: [&#x27;Luvisols&#x27;, &#x27;Cambisols&#x27;,\n",
       "                                                  &#x27;Arenosols&#x27;, &#x27;Leptosols&#x27;,\n",
       "                                                  &#x27;Podsols&#x27;, &#x27;Planosols&#x27;,\n",
       "                                                  &#x27;Stagnosols&#x27;, &#x27;Gleysols&#x27;,\n",
       "                                                  &#x27;Histosols&#x27;,\n",
       "                                                  &#x27;Unsurveyed/Urban&#x27;]})</pre></div></div></div></div></div></div></div></div></div></div></div></div></div><div class=\"sk-parallel-item\"><div class=\"sk-item\"><div class=\"sk-label-container\"><div class=\"sk-label sk-toggleable\"><input class=\"sk-toggleable__control sk-hidden--visually\" id=\"sk-estimator-id-10\" type=\"checkbox\" ><label for=\"sk-estimator-id-10\" class=\"sk-toggleable__label sk-toggleable__label-arrow\">remainder</label><div class=\"sk-toggleable__content\"><pre>[]</pre></div></div></div><div class=\"sk-serial\"><div class=\"sk-item\"><div class=\"sk-estimator sk-toggleable\"><input class=\"sk-toggleable__control sk-hidden--visually\" id=\"sk-estimator-id-11\" type=\"checkbox\" ><label for=\"sk-estimator-id-11\" class=\"sk-toggleable__label sk-toggleable__label-arrow\">passthrough</label><div class=\"sk-toggleable__content\"><pre>passthrough</pre></div></div></div></div></div></div></div></div><div class=\"sk-item\"><div class=\"sk-estimator sk-toggleable\"><input class=\"sk-toggleable__control sk-hidden--visually\" id=\"sk-estimator-id-12\" type=\"checkbox\" ><label for=\"sk-estimator-id-12\" class=\"sk-toggleable__label sk-toggleable__label-arrow\">DecisionTreeRegressor</label><div class=\"sk-toggleable__content\"><pre>DecisionTreeRegressor(random_state=42)</pre></div></div></div></div></div></div></div>"
      ],
      "text/plain": [
       "Pipeline(steps=[('preprocessing',\n",
       "                 ColumnTransformer(remainder='passthrough',\n",
       "                                   transformers=[('num',\n",
       "                                                  Pipeline(steps=[('simpleimputer',\n",
       "                                                                   SimpleImputer()),\n",
       "                                                                  ('robustscaler',\n",
       "                                                                   RobustScaler())]),\n",
       "                                                  ['easting', 'northing',\n",
       "                                                   'elevation']),\n",
       "                                                 ('cat',\n",
       "                                                  ColumnTransformer(transformers=[('ordinal',\n",
       "                                                                                   Pipeline(steps=[('simpleimputer',\n",
       "                                                                                                    SimpleImputer(strategy='most_frequent')),\n",
       "                                                                                                   ('ordinaltransformer',\n",
       "                                                                                                    OrdinalTransformer(category_mapping={'soilType': ['Luvisols',\n",
       "                                                                                                                                                      'Cambisols',\n",
       "                                                                                                                                                      'Arenosols',\n",
       "                                                                                                                                                      'Leptosols',\n",
       "                                                                                                                                                      'Podsols',\n",
       "                                                                                                                                                      'Planosols',\n",
       "                                                                                                                                                      'Stagnosols',\n",
       "                                                                                                                                                      'Gleysols',\n",
       "                                                                                                                                                      'Histosols',\n",
       "                                                                                                                                                      'Unsurveyed/Urban']}))]),\n",
       "                                                                                   ['soilType'])]),\n",
       "                                                  ['soilType'])])),\n",
       "                ('regressor', DecisionTreeRegressor(random_state=42))])"
      ]
     },
     "execution_count": 12,
     "metadata": {},
     "output_type": "execute_result"
    }
   ],
   "source": [
    "regression_model.fit(X_train, y_train)"
   ]
  },
  {
   "cell_type": "code",
   "execution_count": 13,
   "id": "4888d885",
   "metadata": {},
   "outputs": [
    {
     "name": "stdout",
     "output_type": "stream",
     "text": [
      "<class 'pandas.core.frame.DataFrame'>\n"
     ]
    },
    {
     "data": {
      "text/plain": [
       "array([1., 1., 1., ..., 1., 1., 1.])"
      ]
     },
     "execution_count": 13,
     "metadata": {},
     "output_type": "execute_result"
    }
   ],
   "source": [
    "y_pred = regression_model.predict(X_test)\n",
    "y_pred"
   ]
  }
 ],
 "metadata": {
  "kernelspec": {
   "display_name": "Python 3 (ipykernel)",
   "language": "python",
   "name": "python3"
  },
  "language_info": {
   "codemirror_mode": {
    "name": "ipython",
    "version": 3
   },
   "file_extension": ".py",
   "mimetype": "text/x-python",
   "name": "python",
   "nbconvert_exporter": "python",
   "pygments_lexer": "ipython3",
   "version": "3.11.0"
  }
 },
 "nbformat": 4,
 "nbformat_minor": 5
}
