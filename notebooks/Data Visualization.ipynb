{
 "cells": [
  {
   "cell_type": "markdown",
   "metadata": {},
   "source": [
    "# Data Visualization/Analysis\n",
    "\n",
    "## Placeholder Notebook\n",
    "\n",
    "This notebook is initially set up to allow you to quickly start examining the data you have. You should expect it to change a lot over the course of the week as you add features and explore the data.\n",
    "\n",
    "The majority of your code is likely to be in your package (i.e. the `flood_tool` directory). You should import this package into this notebook and use it to explore\\analysis the data.\n",
    "\n",
    "You should try to make sure that this synergizes with the predictive tools your team is building, for example identifiying high risk areas near locations of heavy rainfall or high river/tide levels.\n",
    "\n",
    "### A quick look at postcode data"
   ]
  },
  {
   "cell_type": "code",
   "execution_count": 15,
   "metadata": {},
   "outputs": [
    {
     "data": {
      "text/plain": [
       "0    OL9 7NS\n",
       "Name: postcode, dtype: object"
      ]
     },
     "execution_count": 15,
     "metadata": {},
     "output_type": "execute_result"
    }
   ],
   "source": [
    "data = {'longitude': [10, 20, 30],\n",
    "        'latitude': [12, 22, 33],\n",
    "        'postcode': ['OL9 7NS', 'SK15 1TS', 'AB12 3CD']}\n",
    "import pandas as pd\n",
    "\n",
    "df = pd.DataFrame(data)\n",
    "\n",
    "\n",
    "# Another DataFrame containing latitudes and longitudes\n",
    "given_data = {'longitude': [10, 20],\n",
    "              'latitude': [12, 25]}\n",
    "given_df = pd.DataFrame(given_data)\n",
    "\n",
    "# Merge the given DataFrame with the original DataFrame based on latitude and longitude\n",
    "merged_df = pd.merge(given_df, df, on=['latitude', 'longitude'], how='left')\n",
    "merged_df.dropna(inplace=True)\n",
    "merged_df.postcode.to_list()\n"
   ]
  },
  {
   "cell_type": "code",
   "execution_count": null,
   "metadata": {},
   "outputs": [],
   "source": []
  },
  {
   "cell_type": "code",
   "execution_count": null,
   "metadata": {},
   "outputs": [],
   "source": []
  },
  {
   "cell_type": "code",
   "execution_count": null,
   "metadata": {},
   "outputs": [],
   "source": []
  },
  {
   "cell_type": "code",
   "execution_count": null,
   "metadata": {},
   "outputs": [],
   "source": []
  },
  {
   "cell_type": "code",
   "execution_count": null,
   "metadata": {},
   "outputs": [],
   "source": []
  },
  {
   "cell_type": "code",
   "execution_count": null,
   "metadata": {},
   "outputs": [],
   "source": []
  },
  {
   "cell_type": "code",
   "execution_count": null,
   "metadata": {},
   "outputs": [],
   "source": []
  },
  {
   "cell_type": "code",
   "execution_count": 1,
   "metadata": {},
   "outputs": [
    {
     "data": {
      "text/html": [
       "<div>\n",
       "<style scoped>\n",
       "    .dataframe tbody tr th:only-of-type {\n",
       "        vertical-align: middle;\n",
       "    }\n",
       "\n",
       "    .dataframe tbody tr th {\n",
       "        vertical-align: top;\n",
       "    }\n",
       "\n",
       "    .dataframe thead th {\n",
       "        text-align: right;\n",
       "    }\n",
       "</style>\n",
       "<table border=\"1\" class=\"dataframe\">\n",
       "  <thead>\n",
       "    <tr style=\"text-align: right;\">\n",
       "      <th></th>\n",
       "      <th>postcode</th>\n",
       "      <th>easting</th>\n",
       "      <th>northing</th>\n",
       "      <th>soilType</th>\n",
       "      <th>elevation</th>\n",
       "    </tr>\n",
       "  </thead>\n",
       "  <tbody>\n",
       "    <tr>\n",
       "      <th>0</th>\n",
       "      <td>M34 7QL</td>\n",
       "      <td>393470</td>\n",
       "      <td>394371</td>\n",
       "      <td>Unsurveyed/Urban</td>\n",
       "      <td>110</td>\n",
       "    </tr>\n",
       "    <tr>\n",
       "      <th>1</th>\n",
       "      <td>OL4 3NQ</td>\n",
       "      <td>395420</td>\n",
       "      <td>405669</td>\n",
       "      <td>Unsurveyed/Urban</td>\n",
       "      <td>210</td>\n",
       "    </tr>\n",
       "    <tr>\n",
       "      <th>2</th>\n",
       "      <td>B36 8TE</td>\n",
       "      <td>411900</td>\n",
       "      <td>289400</td>\n",
       "      <td>Unsurveyed/Urban</td>\n",
       "      <td>90</td>\n",
       "    </tr>\n",
       "    <tr>\n",
       "      <th>3</th>\n",
       "      <td>NE16 3AT</td>\n",
       "      <td>420400</td>\n",
       "      <td>562300</td>\n",
       "      <td>Unsurveyed/Urban</td>\n",
       "      <td>10</td>\n",
       "    </tr>\n",
       "    <tr>\n",
       "      <th>4</th>\n",
       "      <td>WS10 8DE</td>\n",
       "      <td>397726</td>\n",
       "      <td>296656</td>\n",
       "      <td>Unsurveyed/Urban</td>\n",
       "      <td>140</td>\n",
       "    </tr>\n",
       "  </tbody>\n",
       "</table>\n",
       "</div>"
      ],
      "text/plain": [
       "   postcode  easting  northing          soilType  elevation\n",
       "0   M34 7QL   393470    394371  Unsurveyed/Urban        110\n",
       "1   OL4 3NQ   395420    405669  Unsurveyed/Urban        210\n",
       "2   B36 8TE   411900    289400  Unsurveyed/Urban         90\n",
       "3  NE16 3AT   420400    562300  Unsurveyed/Urban         10\n",
       "4  WS10 8DE   397726    296656  Unsurveyed/Urban        140"
      ]
     },
     "execution_count": 1,
     "metadata": {},
     "output_type": "execute_result"
    }
   ],
   "source": [
    "import os\n",
    "import sys\n",
    "sys.path.append('..') # Add parent directory to path to always find flood_tool\n",
    "                      # This is not best practice, but it works for this example\n",
    "\n",
    "import pandas as pd\n",
    "import matplotlib.pyplot as plt\n",
    "\n",
    "import flood_tool as ft\n",
    "\n",
    "# The unlabelled postcode data\n",
    "df1 = pd.read_csv(os.path.join(ft._data_dir,\n",
    "                               'postcodes_unlabelled.csv'))\n",
    "df1.head()"
   ]
  },
  {
   "cell_type": "code",
   "execution_count": 2,
   "metadata": {},
   "outputs": [
    {
     "data": {
      "text/html": [
       "<div>\n",
       "<style scoped>\n",
       "    .dataframe tbody tr th:only-of-type {\n",
       "        vertical-align: middle;\n",
       "    }\n",
       "\n",
       "    .dataframe tbody tr th {\n",
       "        vertical-align: top;\n",
       "    }\n",
       "\n",
       "    .dataframe thead th {\n",
       "        text-align: right;\n",
       "    }\n",
       "</style>\n",
       "<table border=\"1\" class=\"dataframe\">\n",
       "  <thead>\n",
       "    <tr style=\"text-align: right;\">\n",
       "      <th></th>\n",
       "      <th>postcode</th>\n",
       "      <th>easting</th>\n",
       "      <th>northing</th>\n",
       "      <th>soilType</th>\n",
       "      <th>elevation</th>\n",
       "      <th>localAuthority</th>\n",
       "      <th>riskLabel</th>\n",
       "      <th>medianPrice</th>\n",
       "      <th>historicallyFlooded</th>\n",
       "    </tr>\n",
       "  </thead>\n",
       "  <tbody>\n",
       "    <tr>\n",
       "      <th>0</th>\n",
       "      <td>OL9 7NS</td>\n",
       "      <td>390978</td>\n",
       "      <td>403269</td>\n",
       "      <td>Unsurveyed/Urban</td>\n",
       "      <td>130</td>\n",
       "      <td>Oldham</td>\n",
       "      <td>1</td>\n",
       "      <td>119100.0</td>\n",
       "      <td>False</td>\n",
       "    </tr>\n",
       "    <tr>\n",
       "      <th>1</th>\n",
       "      <td>WV13 2LR</td>\n",
       "      <td>396607</td>\n",
       "      <td>298083</td>\n",
       "      <td>Unsurveyed/Urban</td>\n",
       "      <td>130</td>\n",
       "      <td>Walsall</td>\n",
       "      <td>1</td>\n",
       "      <td>84200.0</td>\n",
       "      <td>False</td>\n",
       "    </tr>\n",
       "    <tr>\n",
       "      <th>2</th>\n",
       "      <td>LS12 1LZ</td>\n",
       "      <td>427859</td>\n",
       "      <td>432937</td>\n",
       "      <td>Unsurveyed/Urban</td>\n",
       "      <td>60</td>\n",
       "      <td>Leeds</td>\n",
       "      <td>1</td>\n",
       "      <td>134900.0</td>\n",
       "      <td>False</td>\n",
       "    </tr>\n",
       "    <tr>\n",
       "      <th>3</th>\n",
       "      <td>SK15 1TS</td>\n",
       "      <td>395560</td>\n",
       "      <td>397900</td>\n",
       "      <td>Unsurveyed/Urban</td>\n",
       "      <td>120</td>\n",
       "      <td>Tameside</td>\n",
       "      <td>1</td>\n",
       "      <td>170200.0</td>\n",
       "      <td>False</td>\n",
       "    </tr>\n",
       "    <tr>\n",
       "      <th>4</th>\n",
       "      <td>TS17 9NN</td>\n",
       "      <td>445771</td>\n",
       "      <td>515362</td>\n",
       "      <td>Unsurveyed/Urban</td>\n",
       "      <td>20</td>\n",
       "      <td>Stockton-on-Tees</td>\n",
       "      <td>1</td>\n",
       "      <td>190600.0</td>\n",
       "      <td>False</td>\n",
       "    </tr>\n",
       "  </tbody>\n",
       "</table>\n",
       "</div>"
      ],
      "text/plain": [
       "   postcode  easting  northing          soilType  elevation    localAuthority  \\\n",
       "0   OL9 7NS   390978    403269  Unsurveyed/Urban        130            Oldham   \n",
       "1  WV13 2LR   396607    298083  Unsurveyed/Urban        130           Walsall   \n",
       "2  LS12 1LZ   427859    432937  Unsurveyed/Urban         60             Leeds   \n",
       "3  SK15 1TS   395560    397900  Unsurveyed/Urban        120          Tameside   \n",
       "4  TS17 9NN   445771    515362  Unsurveyed/Urban         20  Stockton-on-Tees   \n",
       "\n",
       "   riskLabel  medianPrice  historicallyFlooded  \n",
       "0          1     119100.0                False  \n",
       "1          1      84200.0                False  \n",
       "2          1     134900.0                False  \n",
       "3          1     170200.0                False  \n",
       "4          1     190600.0                False  "
      ]
     },
     "execution_count": 2,
     "metadata": {},
     "output_type": "execute_result"
    }
   ],
   "source": [
    "# The labelled postcode data\n",
    "\n",
    "df2 = pd.read_csv(os.path.join(ft._data_dir, 'postcodes_labelled.csv'))\n",
    "df2.head()"
   ]
  },
  {
   "cell_type": "code",
   "execution_count": 3,
   "metadata": {},
   "outputs": [
    {
     "data": {
      "text/plain": [
       "<Axes: title={'center': 'Risk Label Distribution'}>"
      ]
     },
     "execution_count": 3,
     "metadata": {},
     "output_type": "execute_result"
    },
    {
     "data": {
      "image/png": "[encoded data removed]",
      "text/plain": [
       "<Figure size 640x480 with 1 Axes>"
      ]
     },
     "metadata": {},
     "output_type": "display_data"
    }
   ],
   "source": [
    "df2.riskLabel.value_counts().sort_index().plot(kind='bar', title='Risk Label Distribution', logy=True)"
   ]
  },
  {
   "cell_type": "code",
   "execution_count": 5,
   "metadata": {},
   "outputs": [
    {
     "data": {
      "text/html": [
       "<div>\n",
       "<style scoped>\n",
       "    .dataframe tbody tr th:only-of-type {\n",
       "        vertical-align: middle;\n",
       "    }\n",
       "\n",
       "    .dataframe tbody tr th {\n",
       "        vertical-align: top;\n",
       "    }\n",
       "\n",
       "    .dataframe thead th {\n",
       "        text-align: right;\n",
       "    }\n",
       "</style>\n",
       "<table border=\"1\" class=\"dataframe\">\n",
       "  <thead>\n",
       "    <tr style=\"text-align: right;\">\n",
       "      <th></th>\n",
       "      <th>postcodeSector</th>\n",
       "      <th>households</th>\n",
       "      <th>numberOfPostcodeUnits</th>\n",
       "      <th>headcount</th>\n",
       "    </tr>\n",
       "  </thead>\n",
       "  <tbody>\n",
       "    <tr>\n",
       "      <th>0</th>\n",
       "      <td>AL1  1</td>\n",
       "      <td>2546</td>\n",
       "      <td>311</td>\n",
       "      <td>6080</td>\n",
       "    </tr>\n",
       "    <tr>\n",
       "      <th>1</th>\n",
       "      <td>AL1  2</td>\n",
       "      <td>2642</td>\n",
       "      <td>236</td>\n",
       "      <td>6942</td>\n",
       "    </tr>\n",
       "    <tr>\n",
       "      <th>2</th>\n",
       "      <td>AL1  3</td>\n",
       "      <td>2272</td>\n",
       "      <td>388</td>\n",
       "      <td>5821</td>\n",
       "    </tr>\n",
       "    <tr>\n",
       "      <th>3</th>\n",
       "      <td>AL1  4</td>\n",
       "      <td>3707</td>\n",
       "      <td>339</td>\n",
       "      <td>9635</td>\n",
       "    </tr>\n",
       "    <tr>\n",
       "      <th>4</th>\n",
       "      <td>AL1  5</td>\n",
       "      <td>4406</td>\n",
       "      <td>347</td>\n",
       "      <td>10560</td>\n",
       "    </tr>\n",
       "  </tbody>\n",
       "</table>\n",
       "</div>"
      ],
      "text/plain": [
       "  postcodeSector  households  numberOfPostcodeUnits  headcount\n",
       "0         AL1  1        2546                    311       6080\n",
       "1         AL1  2        2642                    236       6942\n",
       "2         AL1  3        2272                    388       5821\n",
       "3         AL1  4        3707                    339       9635\n",
       "4         AL1  5        4406                    347      10560"
      ]
     },
     "execution_count": 5,
     "metadata": {},
     "output_type": "execute_result"
    }
   ],
   "source": [
    "# The data on households/population per sector\n",
    "\n",
    "df3 = pd.read_csv(os.path.join(ft._data_dir, 'sector_data.csv'))\n",
    "df3.head()"
   ]
  },
  {
   "cell_type": "code",
   "execution_count": 6,
   "metadata": {},
   "outputs": [
    {
     "data": {
      "text/html": [
       "<div>\n",
       "<style scoped>\n",
       "    .dataframe tbody tr th:only-of-type {\n",
       "        vertical-align: middle;\n",
       "    }\n",
       "\n",
       "    .dataframe tbody tr th {\n",
       "        vertical-align: top;\n",
       "    }\n",
       "\n",
       "    .dataframe thead th {\n",
       "        text-align: right;\n",
       "    }\n",
       "</style>\n",
       "<table border=\"1\" class=\"dataframe\">\n",
       "  <thead>\n",
       "    <tr style=\"text-align: right;\">\n",
       "      <th></th>\n",
       "      <th>stationReference</th>\n",
       "      <th>stationName</th>\n",
       "      <th>latitude</th>\n",
       "      <th>longitude</th>\n",
       "      <th>maxOnRecord</th>\n",
       "      <th>minOnRecord</th>\n",
       "      <th>typicalRangeHigh</th>\n",
       "      <th>typicalRangeLow</th>\n",
       "    </tr>\n",
       "  </thead>\n",
       "  <tbody>\n",
       "    <tr>\n",
       "      <th>2021</th>\n",
       "      <td>E71839</td>\n",
       "      <td>Portsmouth</td>\n",
       "      <td>50.802280</td>\n",
       "      <td>-1.111170</td>\n",
       "      <td>NaN</td>\n",
       "      <td>NaN</td>\n",
       "      <td>NaN</td>\n",
       "      <td>NaN</td>\n",
       "    </tr>\n",
       "    <tr>\n",
       "      <th>2022</th>\n",
       "      <td>E71939</td>\n",
       "      <td>Bournemouth</td>\n",
       "      <td>50.714331</td>\n",
       "      <td>-1.874873</td>\n",
       "      <td>NaN</td>\n",
       "      <td>NaN</td>\n",
       "      <td>NaN</td>\n",
       "      <td>NaN</td>\n",
       "    </tr>\n",
       "    <tr>\n",
       "      <th>2023</th>\n",
       "      <td>E70739</td>\n",
       "      <td>Aberdeen</td>\n",
       "      <td>57.144060</td>\n",
       "      <td>-2.077360</td>\n",
       "      <td>NaN</td>\n",
       "      <td>NaN</td>\n",
       "      <td>NaN</td>\n",
       "      <td>NaN</td>\n",
       "    </tr>\n",
       "    <tr>\n",
       "      <th>2024</th>\n",
       "      <td>E74239</td>\n",
       "      <td>Tobermory</td>\n",
       "      <td>56.623110</td>\n",
       "      <td>-6.064220</td>\n",
       "      <td>NaN</td>\n",
       "      <td>NaN</td>\n",
       "      <td>NaN</td>\n",
       "      <td>NaN</td>\n",
       "    </tr>\n",
       "    <tr>\n",
       "      <th>2025</th>\n",
       "      <td>E73339</td>\n",
       "      <td>Llandudno</td>\n",
       "      <td>53.331670</td>\n",
       "      <td>-3.825220</td>\n",
       "      <td>NaN</td>\n",
       "      <td>NaN</td>\n",
       "      <td>NaN</td>\n",
       "      <td>NaN</td>\n",
       "    </tr>\n",
       "  </tbody>\n",
       "</table>\n",
       "</div>"
      ],
      "text/plain": [
       "     stationReference  stationName   latitude  longitude  maxOnRecord  \\\n",
       "2021           E71839   Portsmouth  50.802280  -1.111170          NaN   \n",
       "2022           E71939  Bournemouth  50.714331  -1.874873          NaN   \n",
       "2023           E70739     Aberdeen  57.144060  -2.077360          NaN   \n",
       "2024           E74239    Tobermory  56.623110  -6.064220          NaN   \n",
       "2025           E73339    Llandudno  53.331670  -3.825220          NaN   \n",
       "\n",
       "      minOnRecord  typicalRangeHigh  typicalRangeLow  \n",
       "2021          NaN               NaN              NaN  \n",
       "2022          NaN               NaN              NaN  \n",
       "2023          NaN               NaN              NaN  \n",
       "2024          NaN               NaN              NaN  \n",
       "2025          NaN               NaN              NaN  "
      ]
     },
     "execution_count": 6,
     "metadata": {},
     "output_type": "execute_result"
    }
   ],
   "source": [
    "# The data on measurement stations\n",
    "\n",
    "df4 = pd.read_csv(os.path.join(ft._data_dir, 'stations.csv'))\n",
    "df4.tail()"
   ]
  },
  {
   "cell_type": "code",
   "execution_count": 7,
   "metadata": {},
   "outputs": [
    {
     "data": {
      "text/html": [
       "<div>\n",
       "<style scoped>\n",
       "    .dataframe tbody tr th:only-of-type {\n",
       "        vertical-align: middle;\n",
       "    }\n",
       "\n",
       "    .dataframe tbody tr th {\n",
       "        vertical-align: top;\n",
       "    }\n",
       "\n",
       "    .dataframe thead th {\n",
       "        text-align: right;\n",
       "    }\n",
       "</style>\n",
       "<table border=\"1\" class=\"dataframe\">\n",
       "  <thead>\n",
       "    <tr style=\"text-align: right;\">\n",
       "      <th></th>\n",
       "      <th>dateTime</th>\n",
       "      <th>stationReference</th>\n",
       "      <th>parameter</th>\n",
       "      <th>qualifier</th>\n",
       "      <th>unitName</th>\n",
       "      <th>value</th>\n",
       "    </tr>\n",
       "  </thead>\n",
       "  <tbody>\n",
       "    <tr>\n",
       "      <th>0</th>\n",
       "      <td>2023-10-20T00:00:00Z</td>\n",
       "      <td>4205</td>\n",
       "      <td>level</td>\n",
       "      <td>Stage</td>\n",
       "      <td>mASD</td>\n",
       "      <td>0.137</td>\n",
       "    </tr>\n",
       "    <tr>\n",
       "      <th>1</th>\n",
       "      <td>2023-10-20T00:00:00Z</td>\n",
       "      <td>E6380</td>\n",
       "      <td>level</td>\n",
       "      <td>Stage</td>\n",
       "      <td>mAOD</td>\n",
       "      <td>2.146</td>\n",
       "    </tr>\n",
       "    <tr>\n",
       "      <th>2</th>\n",
       "      <td>2023-10-20T00:00:00Z</td>\n",
       "      <td>E7270</td>\n",
       "      <td>rainfall</td>\n",
       "      <td>Tipping Bucket Raingauge</td>\n",
       "      <td>mm</td>\n",
       "      <td>1.4</td>\n",
       "    </tr>\n",
       "    <tr>\n",
       "      <th>3</th>\n",
       "      <td>2023-10-20T00:00:00Z</td>\n",
       "      <td>2653</td>\n",
       "      <td>level</td>\n",
       "      <td>Stage</td>\n",
       "      <td>mASD</td>\n",
       "      <td>0.119</td>\n",
       "    </tr>\n",
       "    <tr>\n",
       "      <th>4</th>\n",
       "      <td>2023-10-20T00:00:00Z</td>\n",
       "      <td>3697TH</td>\n",
       "      <td>level</td>\n",
       "      <td>Downstream Stage</td>\n",
       "      <td>mASD</td>\n",
       "      <td>1.617</td>\n",
       "    </tr>\n",
       "  </tbody>\n",
       "</table>\n",
       "</div>"
      ],
      "text/plain": [
       "               dateTime stationReference parameter                 qualifier  \\\n",
       "0  2023-10-20T00:00:00Z             4205     level                     Stage   \n",
       "1  2023-10-20T00:00:00Z            E6380     level                     Stage   \n",
       "2  2023-10-20T00:00:00Z            E7270  rainfall  Tipping Bucket Raingauge   \n",
       "3  2023-10-20T00:00:00Z             2653     level                     Stage   \n",
       "4  2023-10-20T00:00:00Z           3697TH     level          Downstream Stage   \n",
       "\n",
       "  unitName  value  \n",
       "0     mASD  0.137  \n",
       "1     mAOD  2.146  \n",
       "2       mm    1.4  \n",
       "3     mASD  0.119  \n",
       "4     mASD  1.617  "
      ]
     },
     "execution_count": 7,
     "metadata": {},
     "output_type": "execute_result"
    }
   ],
   "source": [
    "# The data for a wet day\n",
    "\n",
    "df5 = pd.read_csv(os.path.join(ft._data_dir, 'wet_day.csv'))\n",
    "df5.head()"
   ]
  },
  {
   "cell_type": "code",
   "execution_count": 8,
   "metadata": {},
   "outputs": [
    {
     "data": {
      "text/plain": [
       "Text(0.5, 0, 'Rainfall (mm/15 mins)')"
      ]
     },
     "execution_count": 8,
     "metadata": {},
     "output_type": "execute_result"
    },
    {
     "data": {
      "image/png": "[encoded data removed]",
      "text/plain": [
       "<Figure size 640x480 with 1 Axes>"
      ]
     },
     "metadata": {},
     "output_type": "display_data"
    }
   ],
   "source": [
    "rain = pd.to_numeric( df5.value.loc[(df5.parameter=='rainfall')], errors='coerce')\n",
    "\n",
    "rain.loc[(rain>=0) & (rain<=20)].plot(kind='hist',\n",
    "                                      title='Rainfall Distribution',\n",
    "                                      logy=True)\n",
    "plt.xlabel('Rainfall (mm/15 mins)')"
   ]
  },
  {
   "cell_type": "code",
   "execution_count": 9,
   "metadata": {},
   "outputs": [
    {
     "data": {
      "text/html": [
       "<div>\n",
       "<style scoped>\n",
       "    .dataframe tbody tr th:only-of-type {\n",
       "        vertical-align: middle;\n",
       "    }\n",
       "\n",
       "    .dataframe tbody tr th {\n",
       "        vertical-align: top;\n",
       "    }\n",
       "\n",
       "    .dataframe thead th {\n",
       "        text-align: right;\n",
       "    }\n",
       "</style>\n",
       "<table border=\"1\" class=\"dataframe\">\n",
       "  <thead>\n",
       "    <tr style=\"text-align: right;\">\n",
       "      <th></th>\n",
       "      <th>dateTime</th>\n",
       "      <th>stationReference</th>\n",
       "      <th>parameter</th>\n",
       "      <th>qualifier</th>\n",
       "      <th>unitName</th>\n",
       "      <th>value</th>\n",
       "    </tr>\n",
       "  </thead>\n",
       "  <tbody>\n",
       "    <tr>\n",
       "      <th>0</th>\n",
       "      <td>2021-10-10T00:00:00Z</td>\n",
       "      <td>000008</td>\n",
       "      <td>rainfall</td>\n",
       "      <td>Tipping Bucket Raingauge</td>\n",
       "      <td>mm</td>\n",
       "      <td>0.000</td>\n",
       "    </tr>\n",
       "    <tr>\n",
       "      <th>1</th>\n",
       "      <td>2021-10-10T00:00:00Z</td>\n",
       "      <td>000028</td>\n",
       "      <td>rainfall</td>\n",
       "      <td>Tipping Bucket Raingauge</td>\n",
       "      <td>mm</td>\n",
       "      <td>0.000</td>\n",
       "    </tr>\n",
       "    <tr>\n",
       "      <th>2</th>\n",
       "      <td>2021-10-10T00:00:00Z</td>\n",
       "      <td>000075TP</td>\n",
       "      <td>rainfall</td>\n",
       "      <td>Tipping Bucket Raingauge</td>\n",
       "      <td>mm</td>\n",
       "      <td>0.000</td>\n",
       "    </tr>\n",
       "    <tr>\n",
       "      <th>3</th>\n",
       "      <td>2021-10-10T00:00:00Z</td>\n",
       "      <td>000076TP</td>\n",
       "      <td>rainfall</td>\n",
       "      <td>Tipping Bucket Raingauge</td>\n",
       "      <td>mm</td>\n",
       "      <td>0.000</td>\n",
       "    </tr>\n",
       "    <tr>\n",
       "      <th>4</th>\n",
       "      <td>2021-10-10T00:00:00Z</td>\n",
       "      <td>0001</td>\n",
       "      <td>level</td>\n",
       "      <td>Tidal Level</td>\n",
       "      <td>mAOD</td>\n",
       "      <td>2.431</td>\n",
       "    </tr>\n",
       "  </tbody>\n",
       "</table>\n",
       "</div>"
      ],
      "text/plain": [
       "               dateTime stationReference parameter                 qualifier  \\\n",
       "0  2021-10-10T00:00:00Z           000008  rainfall  Tipping Bucket Raingauge   \n",
       "1  2021-10-10T00:00:00Z           000028  rainfall  Tipping Bucket Raingauge   \n",
       "2  2021-10-10T00:00:00Z         000075TP  rainfall  Tipping Bucket Raingauge   \n",
       "3  2021-10-10T00:00:00Z         000076TP  rainfall  Tipping Bucket Raingauge   \n",
       "4  2021-10-10T00:00:00Z             0001     level               Tidal Level   \n",
       "\n",
       "  unitName  value  \n",
       "0       mm  0.000  \n",
       "1       mm  0.000  \n",
       "2       mm  0.000  \n",
       "3       mm  0.000  \n",
       "4     mAOD  2.431  "
      ]
     },
     "execution_count": 9,
     "metadata": {},
     "output_type": "execute_result"
    }
   ],
   "source": [
    "# The data for a more typical day\n",
    "\n",
    "df6 = pd.read_csv(os.path.join(ft._data_dir, 'typical_day.csv'))\n",
    "df6.head()"
   ]
  },
  {
   "cell_type": "code",
   "execution_count": 10,
   "metadata": {},
   "outputs": [
    {
     "data": {
      "text/plain": [
       "Text(0.5, 0, 'Rainfall (mm/15 mins)')"
      ]
     },
     "execution_count": 10,
     "metadata": {},
     "output_type": "execute_result"
    },
    {
     "data": {
      "image/png": "[encoded data removed]",
      "text/plain": [
       "<Figure size 640x480 with 1 Axes>"
      ]
     },
     "metadata": {},
     "output_type": "display_data"
    }
   ],
   "source": [
    "rain = pd.to_numeric( df6.value.loc[(df6.parameter=='rainfall')], errors='coerce')\n",
    "rain.loc[(rain>=0) & (rain<=20)].plot(kind='hist',\n",
    "                                      title='Rainfall Distribution',\n",
    "                                      xlabel='Rainfall (mm/15 mins)',\n",
    "                                      logy=True)\n",
    "plt.xlabel('Rainfall (mm/15 mins)')"
   ]
  },
  {
   "cell_type": "markdown",
   "metadata": {},
   "source": [
    "### Mapping your data\n",
    "\n",
    "As one possible approach, we have provided a function to plot a circle on a map using the `folium` package. You can use `folium` and expand on this functionality, or you may prefer to use a different package. Please check with us that the mapping package you wish to use is permissible before you start."
   ]
  },
  {
   "cell_type": "code",
   "execution_count": 11,
   "metadata": {},
   "outputs": [
    {
     "data": {
      "text/html": [
       "<div style=\"width:100%;\"><div style=\"position:relative;width:100%;height:0;padding-bottom:60%;\"><span style=\"color:#565656\">Make this Notebook Trusted to load map: File -> Trust Notebook</span><iframe src=\"about:blank\" style=\"position:absolute;width:100%;height:100%;left:0;top:0;border:none !important;\" data-html=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 onload=\"this.contentDocument.open();this.contentDocument.write(atob(this.getAttribute('data-html')));this.contentDocument.close();\" allowfullscreen webkitallowfullscreen mozallowfullscreen></iframe></div></div>"
      ],
      "text/plain": [
       "<folium.folium.Map at 0x1df9281cbb0>"
      ]
     },
     "execution_count": 11,
     "metadata": {},
     "output_type": "execute_result"
    }
   ],
   "source": [
    "## Mapping functionality\n",
    "map = ft.plot_circle(53., 0, 2000.) #Plots a circle of radius 2000 m at the lat, lon: 53., 0.\n",
    "\n",
    "import folium\n",
    "folium.Marker(location=(53, 0.1), \n",
    "                  popup='This is my popup',\n",
    "                  icon=folium.Icon(color='black', icon='info-sign')).add_to(map)\n",
    "map"
   ]
  }
 ],
 "metadata": {
  "interpreter": {
   "hash": "bdad7588bd4ac3ea9e7582865ff4bd8e833b6b3862959a8fbc3a5685fe0823d5"
  },
  "kernelspec": {
   "display_name": "Python 3",
   "language": "python",
   "name": "python3"
  },
  "language_info": {
   "codemirror_mode": {
    "name": "ipython",
    "version": 3
   },
   "file_extension": ".py",
   "mimetype": "text/x-python",
   "name": "python",
   "nbconvert_exporter": "python",
   "pygments_lexer": "ipython3",
   "version": "3.11.0"
  }
 },
 "nbformat": 4,
 "nbformat_minor": 2
}
