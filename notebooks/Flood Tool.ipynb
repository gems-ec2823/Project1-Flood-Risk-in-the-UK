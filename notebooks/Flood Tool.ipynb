{
 "cells": [
  {
   "cell_type": "markdown",
   "metadata": {},
   "source": [
    "# Flood Tool Examples\n",
    "\n",
    "## Placeholder notebook\n",
    "\n",
    "This notebook is initially set up to allow you to quickly start demonstrating your tool. You should expect it to change a lot over the course of the week as you add features and explore the data.\n",
    "\n",
    "The majority of your code is likely to be in your package (i.e. the `flood_tool` directory). You should import this package into this notebook and use it to show off the features of your tool."
   ]
  },
  {
   "cell_type": "code",
   "execution_count": null,
   "metadata": {},
   "outputs": [],
   "source": [
    "import sys\n",
    "\n",
    "# add the path to the flood_tool module so it's always found\n",
    "# when we import it. Note that '..' means \"go up one directory\"\n",
    "# from the current directory. This isn't best practice.\n",
    "sys.path.append('..')\n",
    "import flood_tool as ft"
   ]
  },
  {
   "cell_type": "code",
   "execution_count": null,
   "metadata": {},
   "outputs": [],
   "source": [
    "tool = ft.Tool()\n",
    "tool.train(\"\")"
   ]
  },
  {
   "cell_type": "code",
   "execution_count": null,
   "metadata": {},
   "outputs": [],
   "source": [
    "tool.lookup_easting_northing(['M34 7QL'])"
   ]
  },
  {
   "cell_type": "code",
   "execution_count": null,
   "metadata": {},
   "outputs": [],
   "source": [
    "# Prediction using postcode and default model\n",
    "tool.predict_flood_class_from_postcode(['M34 7QL'])"
   ]
  },
  {
   "cell_type": "code",
   "execution_count": null,
   "metadata": {},
   "outputs": [],
   "source": [
    "import sys\n",
    "\n",
    "# add the path to the flood_tool module so it's always found\n",
    "# when we import it. Note that '..' means \"go up one directory\"\n",
    "# from the current directory. This isn't best practice.\n",
    "sys.path.append('..')\n",
    "import flood_tool as ft\n",
    "\n",
    "data = ft.get_latest_rainfall_readings()\n",
    "data.head()"
   ]
  },
  {
   "cell_type": "code",
   "execution_count": null,
   "metadata": {},
   "outputs": [],
   "source": [
    "\n",
    "data = ft.get_live_station_data('079621')\n",
    "data.head()"
   ]
  },
  {
   "cell_type": "code",
   "execution_count": null,
   "metadata": {},
   "outputs": [],
   "source": [
    "\n",
    "tool.train([\"flood_class_from_postcode_tree\"])"
   ]
  },
  {
   "cell_type": "code",
   "execution_count": null,
   "metadata": {},
   "outputs": [],
   "source": [
    "tool.predict_flood_class_from_postcode(['M34 7QL'], method = \"flood_class_from_postcode_tree\")"
   ]
  },
  {
   "cell_type": "code",
   "execution_count": null,
   "metadata": {},
   "outputs": [],
   "source": [
    "tool.train([\"house_price_rf_filter\"])"
   ]
  },
  {
   "cell_type": "code",
   "execution_count": null,
   "metadata": {},
   "outputs": [],
   "source": [
    "tool.predict_median_house_price(['M34 7QL'], method = \"house_price_rf_filter\")"
   ]
  },
  {
   "cell_type": "code",
   "execution_count": null,
   "metadata": {},
   "outputs": [],
   "source": [
    "#R = 0.05*0.001*tool.predict_median_house_price(['M34 7QL'], method = \"house_price_rf_filter\")"
   ]
  }
 ],
 "metadata": {
  "kernelspec": {
   "display_name": "Python 3 (ipykernel)",
   "language": "python",
   "name": "python3"
  },
  "language_info": {
   "codemirror_mode": {
    "name": "ipython",
    "version": 3
   },
   "file_extension": ".py",
   "mimetype": "text/x-python",
   "name": "python",
   "nbconvert_exporter": "python",
   "pygments_lexer": "ipython3",
   "version": "3.11.0"
  }
 },
 "nbformat": 4,
 "nbformat_minor": 2
}
