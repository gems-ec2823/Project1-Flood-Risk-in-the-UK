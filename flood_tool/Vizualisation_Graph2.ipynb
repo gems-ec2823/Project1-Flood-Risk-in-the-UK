{
 "cells": [
  {
   "cell_type": "markdown",
   "id": "3809ccfa",
   "metadata": {},
   "source": [
    "# Vizualization"
   ]
  },
  {
   "cell_type": "markdown",
   "id": "3e8e4ee2",
   "metadata": {},
   "source": [
    "## Data Preparation"
   ]
  },
  {
   "cell_type": "code",
   "execution_count": null,
   "id": "c772609d",
   "metadata": {},
   "outputs": [],
   "source": [
    "import pandas as pd"
   ]
  },
  {
   "cell_type": "code",
   "execution_count": null,
   "id": "c0df0267",
   "metadata": {},
   "outputs": [],
   "source": [
    "labelled_data = pd.read_csv('resources/postcodes_labelled.csv')\n",
    "labelled_data.head()"
   ]
  },
  {
   "cell_type": "markdown",
   "id": "1f4238ef",
   "metadata": {},
   "source": [
    "### clean typical day data"
   ]
  },
  {
   "cell_type": "code",
   "execution_count": null,
   "id": "081bb52c",
   "metadata": {},
   "outputs": [],
   "source": [
    "typical_data = pd.read_csv('resources/typical_day.csv')\n",
    "typical_data.head()"
   ]
  },
  {
   "cell_type": "code",
   "execution_count": null,
   "id": "94e86311",
   "metadata": {},
   "outputs": [],
   "source": [
    "typical_data.drop(columns=['dateTime','qualifier'],inplace=True)\n",
    "typical_data"
   ]
  },
  {
   "cell_type": "code",
   "execution_count": null,
   "id": "ce7b8a84",
   "metadata": {},
   "outputs": [],
   "source": [
    "typical_data[['parameter','unitName']].value_counts()"
   ]
  },
  {
   "cell_type": "markdown",
   "id": "5d19f4a7",
   "metadata": {},
   "source": [
    "###### For level we only want mASD and mAOD"
   ]
  },
  {
   "cell_type": "code",
   "execution_count": null,
   "id": "0997ae9b",
   "metadata": {},
   "outputs": [],
   "source": [
    "m_index = typical_data[(typical_data['parameter']=='level')&(typical_data['unitName']=='m')].index"
   ]
  },
  {
   "cell_type": "code",
   "execution_count": null,
   "id": "cc269f13",
   "metadata": {},
   "outputs": [],
   "source": [
    "typical_data = typical_data.drop(index=m_index)"
   ]
  },
  {
   "cell_type": "code",
   "execution_count": null,
   "id": "608409cb",
   "metadata": {},
   "outputs": [],
   "source": [
    "mm_index = typical_data[(typical_data['parameter']=='level')&(typical_data['unitName']=='mm')].index"
   ]
  },
  {
   "cell_type": "code",
   "execution_count": null,
   "id": "613f287d",
   "metadata": {},
   "outputs": [],
   "source": [
    "typical_data = typical_data.drop(index=mm_index)"
   ]
  },
  {
   "cell_type": "code",
   "execution_count": null,
   "id": "e144e0e2",
   "metadata": {},
   "outputs": [],
   "source": [
    "typical_data[['parameter','unitName']].value_counts()"
   ]
  },
  {
   "cell_type": "code",
   "execution_count": null,
   "id": "968693ce",
   "metadata": {},
   "outputs": [],
   "source": [
    "typical_data.isnull().sum()"
   ]
  },
  {
   "cell_type": "code",
   "execution_count": null,
   "id": "5f99a574",
   "metadata": {},
   "outputs": [],
   "source": [
    "typical_data.dropna(subset=['value'], inplace=True)"
   ]
  },
  {
   "cell_type": "code",
   "execution_count": null,
   "id": "2618fe29",
   "metadata": {},
   "outputs": [],
   "source": [
    "typical_data.isnull().sum()"
   ]
  },
  {
   "cell_type": "code",
   "execution_count": null,
   "id": "6144b391",
   "metadata": {},
   "outputs": [],
   "source": [
    "typical_data.head()"
   ]
  },
  {
   "cell_type": "code",
   "execution_count": null,
   "id": "01c8e0e2",
   "metadata": {},
   "outputs": [],
   "source": [
    "typical_data['value'] = pd.to_numeric(typical_data['value'], errors='coerce')"
   ]
  },
  {
   "cell_type": "markdown",
   "id": "d98b9a23",
   "metadata": {},
   "source": [
    "#### Now we want to group our data according to 'stationReference' and 'unitName' and obtain the max, min and mean values."
   ]
  },
  {
   "cell_type": "code",
   "execution_count": null,
   "id": "327305ff",
   "metadata": {},
   "outputs": [],
   "source": [
    "typ_aggregated_df = typical_data.groupby(['stationReference', 'unitName'])['value'].agg(['max', 'min', 'mean']).reset_index()\n",
    "typ_aggregated_df#[typ_aggregated_df['stationReference'] == 'E2900']"
   ]
  },
  {
   "cell_type": "code",
   "execution_count": null,
   "id": "3b14bfb1",
   "metadata": {},
   "outputs": [],
   "source": [
    "typ_aggregated_df = typ_aggregated_df.rename(columns={'max': 'max_typ', 'min': 'min_typ', 'mean': 'mean_typ'})\n"
   ]
  },
  {
   "cell_type": "code",
   "execution_count": null,
   "id": "37d94958",
   "metadata": {},
   "outputs": [],
   "source": [
    "typ_aggregated_df"
   ]
  },
  {
   "cell_type": "markdown",
   "id": "35662096",
   "metadata": {},
   "source": [
    "## clean wet day data"
   ]
  },
  {
   "cell_type": "markdown",
   "id": "a562e843",
   "metadata": {},
   "source": [
    "### We're going to follow the same steps as for the typical day"
   ]
  },
  {
   "cell_type": "code",
   "execution_count": null,
   "id": "8e167481",
   "metadata": {},
   "outputs": [],
   "source": [
    "wet_data = pd.read_csv('resources/wet_day.csv')\n",
    "wet_data.head()"
   ]
  },
  {
   "cell_type": "code",
   "execution_count": null,
   "id": "f85011c1",
   "metadata": {},
   "outputs": [],
   "source": [
    "wet_data.drop(columns=['dateTime','qualifier'],inplace=True)"
   ]
  },
  {
   "cell_type": "code",
   "execution_count": null,
   "id": "3390c2bb",
   "metadata": {},
   "outputs": [],
   "source": [
    "wet_data.isnull().sum()"
   ]
  },
  {
   "cell_type": "code",
   "execution_count": null,
   "id": "03a6cace",
   "metadata": {},
   "outputs": [],
   "source": [
    "wet_data.dropna(subset=['value'], inplace=True)"
   ]
  },
  {
   "cell_type": "code",
   "execution_count": null,
   "id": "cf0811e6",
   "metadata": {},
   "outputs": [],
   "source": [
    "wet_data.isnull().sum()"
   ]
  },
  {
   "cell_type": "code",
   "execution_count": null,
   "id": "7a64fce3",
   "metadata": {},
   "outputs": [],
   "source": [
    "wet_data[['parameter','unitName']].value_counts()"
   ]
  },
  {
   "cell_type": "code",
   "execution_count": null,
   "id": "d26aac32",
   "metadata": {},
   "outputs": [],
   "source": [
    "m2_index = wet_data[(wet_data['parameter']=='level')&(wet_data['unitName']=='m')].index"
   ]
  },
  {
   "cell_type": "code",
   "execution_count": null,
   "id": "53266ed7",
   "metadata": {},
   "outputs": [],
   "source": [
    "wet_data = wet_data.drop(index=m2_index)"
   ]
  },
  {
   "cell_type": "code",
   "execution_count": null,
   "id": "894bff0e",
   "metadata": {},
   "outputs": [],
   "source": [
    "wet_data[['parameter','unitName']].value_counts()"
   ]
  },
  {
   "cell_type": "code",
   "execution_count": null,
   "id": "3b6bef2f",
   "metadata": {},
   "outputs": [],
   "source": [
    "wet_data['value'] = pd.to_numeric(wet_data['value'], errors='coerce')\n"
   ]
  },
  {
   "cell_type": "code",
   "execution_count": null,
   "id": "9f2e357f",
   "metadata": {},
   "outputs": [],
   "source": [
    "wet_aggregated_df = wet_data.groupby(['stationReference', 'unitName'])['value'].agg(['max', 'min', 'mean']).reset_index()\n",
    "wet_aggregated_df"
   ]
  },
  {
   "cell_type": "code",
   "execution_count": null,
   "id": "1020f431",
   "metadata": {},
   "outputs": [],
   "source": [
    "wet_aggregated_df = wet_aggregated_df.rename(columns={'max': 'max_wet', 'min': 'min_wet', 'mean': 'mean_wet'})\n"
   ]
  },
  {
   "cell_type": "code",
   "execution_count": null,
   "id": "29289ea3",
   "metadata": {},
   "outputs": [],
   "source": [
    "wet_aggregated_df"
   ]
  },
  {
   "cell_type": "code",
   "execution_count": null,
   "id": "1d9ecaac",
   "metadata": {},
   "outputs": [],
   "source": [
    "wet_aggregated_df.stationReference.value_counts()"
   ]
  },
  {
   "cell_type": "markdown",
   "id": "fe981e9f",
   "metadata": {},
   "source": [
    "## merge wet and typical data around ['stationReference', 'unitName']"
   ]
  },
  {
   "cell_type": "code",
   "execution_count": null,
   "id": "4dfa93bc",
   "metadata": {},
   "outputs": [],
   "source": [
    "merged_df1 = pd.merge(typ_aggregated_df, wet_aggregated_df, on=['stationReference', 'unitName'], how='inner')\n",
    "merged_df1"
   ]
  },
  {
   "cell_type": "markdown",
   "id": "0561164b",
   "metadata": {},
   "source": [
    "## We now want to find the location based on 'stationReference', so we're going to use station_data"
   ]
  },
  {
   "cell_type": "code",
   "execution_count": null,
   "id": "352bfbf3",
   "metadata": {},
   "outputs": [],
   "source": [
    "station_data = pd.read_csv('resources/stations.csv')\n",
    "station_data.head()"
   ]
  },
  {
   "cell_type": "code",
   "execution_count": null,
   "id": "4827257f",
   "metadata": {},
   "outputs": [],
   "source": [
    "station_data.isnull().sum()"
   ]
  },
  {
   "cell_type": "code",
   "execution_count": null,
   "id": "07f81693",
   "metadata": {},
   "outputs": [],
   "source": [
    "station_data = station_data.drop(columns=['stationName', 'maxOnRecord', 'minOnRecord', 'typicalRangeHigh', 'typicalRangeLow'])\n",
    "station_data"
   ]
  },
  {
   "cell_type": "markdown",
   "id": "27a8b6c6",
   "metadata": {},
   "source": [
    "## We merge around 'stationReference'"
   ]
  },
  {
   "cell_type": "code",
   "execution_count": null,
   "id": "6dc40f93",
   "metadata": {},
   "outputs": [],
   "source": [
    "merged_df2 = pd.merge(merged_df1, station_data, on=['stationReference'], how='inner')\n",
    "merged_df2.latitude.isnull().sum()"
   ]
  },
  {
   "cell_type": "markdown",
   "id": "0f00048f",
   "metadata": {},
   "source": [
    "### We now have access to the location of our data  "
   ]
  },
  {
   "cell_type": "code",
   "execution_count": null,
   "id": "527aacfa",
   "metadata": {},
   "outputs": [],
   "source": [
    "import geo"
   ]
  },
  {
   "cell_type": "code",
   "execution_count": null,
   "id": "376bfc1b",
   "metadata": {},
   "outputs": [],
   "source": [
    "latitude = merged_df2['latitude'].values"
   ]
  },
  {
   "cell_type": "code",
   "execution_count": null,
   "id": "2bee5d80",
   "metadata": {},
   "outputs": [],
   "source": [
    "longitude = merged_df2['longitude'].values"
   ]
  },
  {
   "cell_type": "code",
   "execution_count": null,
   "id": "30db4e20",
   "metadata": {},
   "outputs": [],
   "source": [
    "easting, northing = geo.get_easting_northing_from_gps_lat_long(latitude, longitude)"
   ]
  },
  {
   "cell_type": "markdown",
   "id": "dcd02895",
   "metadata": {},
   "source": [
    "##### We're trying to obtain easting and northing from lat and long because later we want to match them with labelled data"
   ]
  },
  {
   "cell_type": "code",
   "execution_count": null,
   "id": "f82eb7d0",
   "metadata": {},
   "outputs": [],
   "source": [
    "merged_df2['easting'] = easting"
   ]
  },
  {
   "cell_type": "code",
   "execution_count": null,
   "id": "d81a1c57",
   "metadata": {},
   "outputs": [],
   "source": [
    "merged_df2['northing'] = northing\n",
    "merged_df2"
   ]
  },
  {
   "cell_type": "code",
   "execution_count": null,
   "id": "53d02c5d",
   "metadata": {},
   "outputs": [],
   "source": [
    "labelled_data"
   ]
  },
  {
   "cell_type": "code",
   "execution_count": null,
   "id": "60ac09e3",
   "metadata": {},
   "outputs": [],
   "source": [
    "merged_df2.dropna(subset=['latitude'], inplace=True)\n"
   ]
  },
  {
   "cell_type": "code",
   "execution_count": null,
   "id": "ebb6712e",
   "metadata": {},
   "outputs": [],
   "source": [
    "merged_df2"
   ]
  },
  {
   "cell_type": "markdown",
   "id": "d7ffb670",
   "metadata": {},
   "source": [
    "#### We're now going to try and match our merged_df2 lines with the labelled_data lines. To do this, the merge_nearest_neighbors() function will go through each merged_df2 line and use (eastings, northings) to find the closest pair (eastings, northings) present in labelled_data "
   ]
  },
  {
   "cell_type": "code",
   "execution_count": null,
   "id": "35d1af84",
   "metadata": {},
   "outputs": [],
   "source": [
    "from sklearn.neighbors import NearestNeighbors\n",
    "\n",
    "def merge_nearest_neighbors(df_train, df_other):\n",
    "    knn = NearestNeighbors(n_neighbors=1, algorithm='ball_tree')\n",
    "    knn.fit(df_train[['easting', 'northing']])\n",
    "    \n",
    "    distances, indices = knn.kneighbors(df_other[['easting', 'northing']])\n",
    "    print(distances.max())\n",
    "\n",
    "    \n",
    "    columns = ['stationReference', 'unitName', 'max_typ', 'min_typ', 'mean_typ', 'max_wet', 'min_wet', 'mean_wet']\n",
    "    \n",
    "\n",
    "    df_other[columns] = df_train[columns].iloc[indices[:, 0]].values\n",
    " \n",
    "    return df_other\n",
    "\n",
    "\n",
    "\n",
    "result_df = merge_nearest_neighbors(merged_df2, labelled_data)\n",
    "result_df"
   ]
  },
  {
   "cell_type": "markdown",
   "id": "1f95a5c1",
   "metadata": {},
   "source": [
    "### We can see that when we look for the nearest neighbours, the maximum distance is 23215.9132468383 m (23km), which is acceptable given that we are working on an entire country"
   ]
  },
  {
   "cell_type": "markdown",
   "id": "14af2e21",
   "metadata": {},
   "source": [
    "### We're going to encode soilType, maybe we'll use it later (the classification of these soil types by increasing order of severity of flood risk was found thanks to chatgpt)"
   ]
  },
  {
   "cell_type": "code",
   "execution_count": null,
   "id": "f0259d93",
   "metadata": {},
   "outputs": [],
   "source": [
    "result_df.soilType.value_counts().index"
   ]
  },
  {
   "cell_type": "code",
   "execution_count": null,
   "id": "79e54267",
   "metadata": {},
   "outputs": [],
   "source": [
    "soil_type_mapping = {\n",
    "    'Luvisols': 1,\n",
    "    'Cambisols': 2,\n",
    "    'Arenosols': 3,\n",
    "    'Leptosols': 4,\n",
    "    'Podsols': 5,\n",
    "    'Planosols': 6,\n",
    "    'Stagnosols': 7,\n",
    "    'Gleysols': 8,\n",
    "    'Histosols': 9,\n",
    "    'Unsurveyed/Urban': 10\n",
    "}\n",
    "\n",
    "result_df['soil_type_encoded'] = result_df['soilType'].map(soil_type_mapping)\n"
   ]
  },
  {
   "cell_type": "code",
   "execution_count": null,
   "id": "e26e5e60",
   "metadata": {},
   "outputs": [],
   "source": [
    "result_df.soilType.isna().sum()"
   ]
  },
  {
   "cell_type": "code",
   "execution_count": null,
   "id": "e16be6f4",
   "metadata": {},
   "outputs": [],
   "source": [
    "result_df = result_df.drop(columns = 'soilType') "
   ]
  },
  {
   "cell_type": "code",
   "execution_count": null,
   "id": "70b1f9be",
   "metadata": {},
   "outputs": [],
   "source": [
    "result_df"
   ]
  },
  {
   "cell_type": "markdown",
   "id": "5ab76491",
   "metadata": {},
   "source": [
    "#### We want to transform easting and northing into lat and long"
   ]
  },
  {
   "cell_type": "code",
   "execution_count": null,
   "id": "7461ef12",
   "metadata": {},
   "outputs": [],
   "source": [
    "import os\n",
    "import sys\n",
    "import pandas as pd\n",
    "import sys\n",
    "sys.path.append('..')\n",
    "import flood_tool as ft"
   ]
  },
  {
   "cell_type": "code",
   "execution_count": null,
   "id": "f720b560",
   "metadata": {},
   "outputs": [],
   "source": [
    "result_df['latitude'], result_df['longitude'] = ft.get_gps_lat_long_from_easting_northing(\n",
    "    result_df['easting'], result_df['northing'], rads=False, dms=False\n",
    ")"
   ]
  },
  {
   "cell_type": "code",
   "execution_count": null,
   "id": "f967f504",
   "metadata": {},
   "outputs": [],
   "source": [
    "result_df = result_df.drop(columns = ['easting','northing'])"
   ]
  },
  {
   "cell_type": "code",
   "execution_count": null,
   "id": "48e5dbb8",
   "metadata": {},
   "outputs": [],
   "source": [
    "result_df#.unitName.value_counts()"
   ]
  },
  {
   "cell_type": "markdown",
   "id": "30357847",
   "metadata": {},
   "source": [
    "# Vizualization "
   ]
  },
  {
   "cell_type": "markdown",
   "id": "8fe9ca38",
   "metadata": {},
   "source": [
    "##### Our different points are displayed according to their category: rain, river and tidal. You can choose which layer to display using the tool at the top right of the map. The colour of our points depends solely on the risk and the size of our points will depend on the risk as well as mean_typ and mean_wet. by clicking on each point, you can access its characteristics \n",
    "##### Rain : circle\n",
    "##### river: square\n",
    "##### tidal: triangle\n"
   ]
  },
  {
   "cell_type": "code",
   "execution_count": null,
   "id": "c8460a82",
   "metadata": {},
   "outputs": [],
   "source": [
    "import folium\n",
    "from branca.element import Template, MacroElement\n",
    "\n",
    "\n",
    "m = folium.Map(location=[result_df[\"latitude\"].mean(), result_df[\"longitude\"].mean()], zoom_start=6)\n",
    "\n",
    "def risk_color(risk):\n",
    "    if risk <= 2:\n",
    "        return 'green'\n",
    "    elif risk <= 5:\n",
    "        return 'orange'\n",
    "    elif risk <= 7:\n",
    "        return 'red'\n",
    "    else:\n",
    "        return 'purple'\n",
    "    \n",
    "\n",
    "\n",
    "#the radius of our circle will depend on risk, mean_typ, mean_wet\n",
    "def calculate_radius(risk, mean_typ, mean_wet):\n",
    "    return (risk+(mean_typ + mean_wet)*0.5)\n",
    "\n",
    "def create_marker(lat, lon, unit_name, color, radius, popup_info):\n",
    "    if unit_name == 'mm':\n",
    "        return folium.CircleMarker(location=[lat, lon], radius=radius, \n",
    "                                   color=color, fill=True, fill_color=color, popup=popup_info)\n",
    "    elif unit_name == 'mASD':\n",
    "        return folium.RegularPolygonMarker(location=[lat, lon], number_of_sides=4, radius=radius,\n",
    "                                           color=color, fill_color=color, popup=popup_info)\n",
    "    elif unit_name == 'mAOD':\n",
    "        return folium.RegularPolygonMarker(location=[lat, lon], number_of_sides=3, radius=radius, \n",
    "                                           color=color, fill_color=color, popup=popup_info)\n",
    "    \n",
    "\n",
    "#rain, river and tidal layers\n",
    "unit_names = result_df['unitName'].unique()\n",
    "for unit in unit_names:\n",
    "    if unit == 'mm':\n",
    "        name = 'rain'\n",
    "    elif unit == 'mASD':\n",
    "        name = 'river'\n",
    "    elif unit == 'mAOD':\n",
    "        name = 'tidal'\n",
    "    else:\n",
    "        name = '' \n",
    "    unit_group = folium.FeatureGroup(name=f'{name}: {unit}')\n",
    "    for idx, row in result_df[result_df['unitName'] == unit].iterrows():\n",
    "        radius = calculate_radius(row['riskLabel'], row['mean_typ'], row['mean_wet'])\n",
    "        popup_text = f\"Postcode: {row['postcode']}, Risk: {row['riskLabel']},  {name}: {row['unitName']}, mean_wet_typical:{round((row['mean_typ']+ row['mean_wet'])*0.5,2)} \"\n",
    "        marker = create_marker(row['latitude'], row['longitude'], row['unitName'], risk_color(row['riskLabel']), radius, popup_text)\n",
    "        marker.add_to(unit_group)\n",
    "    unit_group.add_to(m)\n",
    "\n",
    "folium.LayerControl().add_to(m)\n",
    "\n",
    "template = \"\"\"\n",
    "{% macro html(this, kwargs) %}\n",
    "<div style=\"position: fixed; \n",
    "            bottom: 50px; left: 50px; width: 150px; height: 90px; \n",
    "            border:2px solid grey; z-index:9999; font-size:14px;\n",
    "            background-color: white; opacity: 0.8;\">\n",
    "    &nbsp; Risk legend <br>\n",
    "    &nbsp; <span style=\"color:green;\">&#11044;</span> low risk <br>\n",
    "    &nbsp; <span style=\"color:orange;\">&#11044;</span> moderate risk <br>\n",
    "    &nbsp; <span style=\"color:red;\">&#11044;</span> high risk <br>\n",
    "    &nbsp; <span style=\"color:purple;\">&#11044;</span> very high risk\n",
    "</div>\n",
    "{% endmacro %}\"\"\"\n",
    "\n",
    "macro = MacroElement()\n",
    "macro._template = Template(template)\n",
    "\n",
    "m.get_root().add_child(macro)\n",
    "\n",
    "m\n"
   ]
  },
  {
   "cell_type": "markdown",
   "id": "9c15f87d",
   "metadata": {},
   "source": [
    "### It is also possible to display a heat map, but this is less relevant to our project. "
   ]
  },
  {
   "cell_type": "code",
   "execution_count": null,
   "id": "3d53b971",
   "metadata": {},
   "outputs": [],
   "source": [
    "from folium.plugins import HeatMap\n",
    "\n",
    "m = folium.Map(location=[result_df[\"latitude\"].mean(), result_df[\"longitude\"].mean()], zoom_start=6)\n",
    "\n",
    "def prepare_heatmap_data(df, unit_name):\n",
    "    return [[row['latitude'], row['longitude']] for index, row in df[df['unitName'] == unit_name].iterrows()]\n",
    "\n",
    "unit_names = result_df['unitName'].unique()\n",
    "for unit in unit_names:\n",
    "    heat_data = prepare_heatmap_data(result_df, unit)\n",
    "    heat_layer = HeatMap(heat_data, name=f'Heatmap {unit}', show=False)\n",
    "    m.add_child(heat_layer)\n",
    "\n",
    "folium.LayerControl().add_to(m)\n",
    "\n",
    "m"
   ]
  },
  {
   "cell_type": "markdown",
   "id": "6246aa4b",
   "metadata": {},
   "source": [
    "# LIVE DATA"
   ]
  },
  {
   "cell_type": "code",
   "execution_count": null,
   "id": "999fb104",
   "metadata": {},
   "outputs": [],
   "source": [
    "labelled_data = pd.read_csv('resources/postcodes_labelled.csv')\n"
   ]
  },
  {
   "cell_type": "code",
   "execution_count": null,
   "id": "367a5736",
   "metadata": {},
   "outputs": [],
   "source": [
    "from os import path\n",
    "import urllib\n",
    "import json\n",
    "import re\n",
    "\n",
    "import pandas as pd\n",
    "\n",
    "from flood_tool import _data_dir\n",
    "\n",
    "__all__ = [\n",
    "    \"get_station_data_from_csv\",\n",
    "    \"get_stations\",\n",
    "    \"get_latest_rainfall_readings\",\n",
    "    \"get_live_station_data\",\n",
    "]\n",
    "\n",
    "_wet_day_file = path.join(_data_dir, \"wet_day.csv\")\n",
    "_typical_day_file = path.join(_data_dir, \"typical_day.csv\")\n",
    "_station_file = path.join(_data_dir, \"stations.csv\")"
   ]
  },
  {
   "cell_type": "code",
   "execution_count": null,
   "id": "c34e4f86",
   "metadata": {},
   "outputs": [],
   "source": [
    "API_URL = \"http://environment.data.gov.uk/flood-monitoring/\"\n",
    "\n",
    "\n",
    "rainfall_station = re.compile(\".*/(.*)-rainfall-(.*)-t-15_min-(.*)/.*\")\n",
    "\n",
    "\n",
    "def split_rainfall_api_id(input):\n",
    "    \"\"\"Split rainfall station API id into component parts\n",
    "     using a regular expression.\n",
    "     \"\"\"\n",
    "    match = rainfall_station.match(input)\n",
    "\n",
    "    if match:\n",
    "        return match.group(1), match.group(2), match.group(3)\n",
    "    else:\n",
    "        return \"\", \"\", \"\"\n"
   ]
  },
  {
   "cell_type": "code",
   "execution_count": null,
   "id": "8a7f7166",
   "metadata": {},
   "outputs": [],
   "source": [
    "def get_latest_rainfall_readings():\n",
    "    \"\"\"Return last readings for all rainfall stations via live API.\n",
    "\n",
    "    >>> data = get_latest_rainfall_readings()\n",
    "    \"\"\"\n",
    "\n",
    "    url = API_URL + \"data/readings?unitName=mm&latest\" # I've changed the function here a little because I prefer to have unitName==mm \n",
    "    data = urllib.request.urlopen(url)\n",
    "    data = json.load(data)\n",
    "\n",
    "    dframe = pd.DataFrame(data[\"items\"])\n",
    "\n",
    "    id_data = dframe[\"@id\"].apply(split_rainfall_api_id)\n",
    "    dframe[\"stationReference\"] = id_data.apply(lambda x: x[0])\n",
    "    dframe[\"qualifier\"] = id_data.apply(lambda x:\n",
    "                                        x[1].replace('_', ' '). title())\n",
    "    dframe[\"unitName\"] = id_data.apply(lambda x: x[2])\n",
    "    dframe.drop([\"@id\", \"measure\"], axis=1, inplace=True)\n",
    "\n",
    "    dframe[\"dateTime\"] = dframe[\"dateTime\"].apply(pd.to_datetime)\n",
    "\n",
    "    dframe.set_index([\"stationReference\", \"dateTime\"], inplace=True)\n",
    "\n",
    "    dframe[\"parameter\"] = \"rainfail\"\n",
    "\n",
    "    dframe[\"value\"] = pd.to_numeric(dframe[\"value\"], errors=\"coerce\")\n",
    "    dframe = dframe[dframe['unitName'] == 'mm']\n",
    "\n",
    "    return dframe.sort_index()"
   ]
  },
  {
   "cell_type": "code",
   "execution_count": null,
   "id": "aacb305f",
   "metadata": {},
   "outputs": [],
   "source": [
    "live_data = get_latest_rainfall_readings()#.shape#parameter.value_counts()"
   ]
  },
  {
   "cell_type": "code",
   "execution_count": null,
   "id": "8df232fc",
   "metadata": {},
   "outputs": [],
   "source": [
    "live_data"
   ]
  },
  {
   "cell_type": "code",
   "execution_count": null,
   "id": "d2cc125a",
   "metadata": {},
   "outputs": [],
   "source": [
    "live_data = live_data.reset_index()\n"
   ]
  },
  {
   "cell_type": "markdown",
   "id": "46e4f4b9",
   "metadata": {},
   "source": [
    "### Repeat the previous steps  "
   ]
  },
  {
   "cell_type": "code",
   "execution_count": null,
   "id": "5c28e251",
   "metadata": {},
   "outputs": [],
   "source": [
    "merged_df_live = pd.merge(live_data, station_data, on=['stationReference'], how='inner')\n",
    "merged_df_live"
   ]
  },
  {
   "cell_type": "code",
   "execution_count": null,
   "id": "46f2a676",
   "metadata": {},
   "outputs": [],
   "source": [
    "import geo\n",
    "latitude = merged_df_live['latitude'].values\n",
    "longitude = merged_df_live['longitude'].values\n",
    "easting, northing = geo.get_easting_northing_from_gps_lat_long(latitude, longitude)\n",
    "merged_df_live['easting'] = easting\n",
    "merged_df_live['northing'] = northing"
   ]
  },
  {
   "cell_type": "code",
   "execution_count": null,
   "id": "0674a21c",
   "metadata": {},
   "outputs": [],
   "source": [
    "merged_df_live.dropna(subset=['latitude'], inplace=True)\n"
   ]
  },
  {
   "cell_type": "code",
   "execution_count": null,
   "id": "7c991930",
   "metadata": {},
   "outputs": [],
   "source": [
    "\n",
    "def merge_nearest_neighbors_live(df_train, df_other):\n",
    "    knn = NearestNeighbors(n_neighbors=1, algorithm='ball_tree')\n",
    "    knn.fit(df_train[['easting', 'northing']])\n",
    "    \n",
    "    distances, indices = knn.kneighbors(df_other[['easting', 'northing']])\n",
    "    \n",
    "    columns = ['stationReference', 'unitName', 'value','dateTime']\n",
    "    \n",
    "\n",
    "    df_other[columns] = df_train[columns].iloc[indices[:, 0]].values\n",
    "    \n",
    "    return df_other\n"
   ]
  },
  {
   "cell_type": "code",
   "execution_count": null,
   "id": "152e4820",
   "metadata": {},
   "outputs": [],
   "source": [
    "result_df_live = merge_nearest_neighbors_live(merged_df_live, labelled_data)\n",
    "result_df_live#.value.value_counts()"
   ]
  },
  {
   "cell_type": "code",
   "execution_count": null,
   "id": "09199734",
   "metadata": {},
   "outputs": [],
   "source": [
    "\n",
    "result_df_live['latitude'], result_df_live['longitude'] = ft.get_gps_lat_long_from_easting_northing(\n",
    "    result_df_live['easting'], result_df_live['northing'], rads=False, dms=False\n",
    ")"
   ]
  },
  {
   "cell_type": "code",
   "execution_count": null,
   "id": "d8504b24",
   "metadata": {},
   "outputs": [],
   "source": [
    "result_df_live = result_df_live.drop(columns = ['easting','northing','elevation', 'soilType'])"
   ]
  },
  {
   "cell_type": "code",
   "execution_count": null,
   "id": "7a7deea3",
   "metadata": {},
   "outputs": [],
   "source": [
    "result_df_live#.historicallyFlooded.value_counts()"
   ]
  },
  {
   "cell_type": "markdown",
   "id": "527d71d8",
   "metadata": {},
   "source": [
    "## We're now going to do a visualisation similar to the one above, but only with rain. This time the size of the points will depend on the risk, value(rain) AND historicalFlooding. By clicking on a point, you can display its characteristics, including the date. "
   ]
  },
  {
   "cell_type": "code",
   "execution_count": null,
   "id": "15251472",
   "metadata": {},
   "outputs": [],
   "source": [
    "import folium\n",
    "from branca.element import Template, MacroElement\n",
    "\n",
    "\n",
    "m = folium.Map(location=[result_df_live[\"latitude\"].mean(), result_df_live[\"longitude\"].mean()], zoom_start=6)\n",
    "\n",
    "def risk_color(risk):\n",
    "    if risk <= 2:\n",
    "        return 'green'\n",
    "    elif risk <= 5:\n",
    "        return 'orange'\n",
    "    elif risk <= 7:\n",
    "        return 'red'\n",
    "    else:\n",
    "        return 'purple'\n",
    "\n",
    "def calculate_radius(risk, value, flooded):\n",
    "    base_radius = 1 \n",
    "    risk_factor = risk  \n",
    "    flood_historical = 2 if flooded else 1 \n",
    "    value_factor = min(value , 0.01)*10  \n",
    "    return base_radius + risk_factor + flood_historical + value_factor\n",
    "\n",
    "for idx, row in result_df_live.iterrows():\n",
    "    radius = calculate_radius(row['riskLabel'], row['value'], row['historicallyFlooded'])\n",
    "    popup_text = f\"Postcode: {row['postcode']}, Risk: {row['riskLabel']}, dateTime: {row['dateTime']}, rain_value: {row['value']}\"\n",
    "\n",
    "    folium.CircleMarker(\n",
    "        location=(row[\"latitude\"], row[\"longitude\"]),\n",
    "        radius=radius,\n",
    "        color=risk_color(row[\"riskLabel\"]),\n",
    "        fill=True,\n",
    "        fill_color=risk_color(row[\"riskLabel\"]),\n",
    "        popup=folium.Popup(popup_text, parse_html=True)\n",
    "    ).add_to(m)\n",
    "    \n",
    "template = \"\"\"\n",
    "{% macro html(this, kwargs) %}\n",
    "<div style=\"position: fixed; \n",
    "            bottom: 50px; left: 50px; width: 150px; height: 90px; \n",
    "            border:2px solid grey; z-index:9999; font-size:14px;\n",
    "            background-color: white; opacity: 0.8;\">\n",
    "    &nbsp; Risk legend <br>\n",
    "    &nbsp; <span style=\"color:green;\">&#11044;</span> low risk <br>\n",
    "    &nbsp; <span style=\"color:orange;\">&#11044;</span> moderate risk <br>\n",
    "    &nbsp; <span style=\"color:red;\">&#11044;</span> high risk <br>\n",
    "    &nbsp; <span style=\"color:purple;\">&#11044;</span> very high risk\n",
    "</div>\n",
    "{% endmacro %}\"\"\"\n",
    "\n",
    "macro = MacroElement()\n",
    "macro._template = Template(template)\n",
    "\n",
    "m.get_root().add_child(macro)\n",
    "\n",
    "m"
   ]
  },
  {
   "cell_type": "markdown",
   "id": "d5915a40",
   "metadata": {},
   "source": [
    "# Visualisation using the R formula"
   ]
  },
  {
   "attachments": {
    "image.png": {
     "image/png": "[encoded data removed]"
    }
   },
   "cell_type": "markdown",
   "id": "914e71da",
   "metadata": {},
   "source": [
    "![image.png](attachment:image.png)"
   ]
  },
  {
   "cell_type": "code",
   "execution_count": null,
   "id": "5d274dce",
   "metadata": {},
   "outputs": [],
   "source": [
    "labelled_data_R = pd.read_csv('resources/postcodes_labelled.csv')\n",
    "labelled_data_R"
   ]
  },
  {
   "cell_type": "code",
   "execution_count": null,
   "id": "0755ef9a",
   "metadata": {},
   "outputs": [],
   "source": [
    "labelled_data_R.dtypes"
   ]
  },
  {
   "cell_type": "code",
   "execution_count": null,
   "id": "46c29cae",
   "metadata": {},
   "outputs": [],
   "source": [
    "proba_risk_mapping = {\n",
    "    '1': 0.001,\n",
    "    '2': 0.002,\n",
    "    '3': 0.003,\n",
    "    '4': 0.005,\n",
    "    '5': 0.01,\n",
    "    '6': 0.015,\n",
    "    '7': 0.02,\n",
    "    '8': 0.03,\n",
    "    '9': 0.04,\n",
    "    '10': 0.05\n",
    "}\n",
    "proba_risk_mapping_int = {int(k): v for k, v in proba_risk_mapping.items()}\n",
    "\n",
    "labelled_data_R['riskLabel'] = labelled_data_R['riskLabel'].map(proba_risk_mapping_int)\n",
    "\n"
   ]
  },
  {
   "cell_type": "code",
   "execution_count": null,
   "id": "6ef7c66e",
   "metadata": {},
   "outputs": [],
   "source": [
    "labelled_data_R['R'] = 0.05*labelled_data_R['medianPrice']*labelled_data_R['riskLabel']"
   ]
  },
  {
   "cell_type": "code",
   "execution_count": null,
   "id": "1da21053",
   "metadata": {},
   "outputs": [],
   "source": [
    "labelled_data_R"
   ]
  },
  {
   "cell_type": "code",
   "execution_count": null,
   "id": "a2597903",
   "metadata": {},
   "outputs": [],
   "source": [
    "labelled_data_R = labelled_data_R.drop(columns = ['elevation','soilType', 'riskLabel'])"
   ]
  },
  {
   "cell_type": "code",
   "execution_count": null,
   "id": "915ffbf5",
   "metadata": {},
   "outputs": [],
   "source": [
    "labelled_data_R.dropna(subset=['R'], inplace=True)\n"
   ]
  },
  {
   "cell_type": "code",
   "execution_count": null,
   "id": "8f07fbd8",
   "metadata": {},
   "outputs": [],
   "source": [
    "labelled_data_R"
   ]
  },
  {
   "cell_type": "code",
   "execution_count": null,
   "id": "2533d06c",
   "metadata": {},
   "outputs": [],
   "source": [
    "latitude, longitude = ft.get_gps_lat_long_from_easting_northing(\n",
    "    labelled_data_R['easting'].values, labelled_data_R['northing'].values, rads=False, dms=False\n",
    ")"
   ]
  },
  {
   "cell_type": "code",
   "execution_count": null,
   "id": "99964f6e",
   "metadata": {},
   "outputs": [],
   "source": [
    "labelled_data_R['latitude'] = latitude\n",
    "labelled_data_R['longitude'] = longitude\n",
    "\n"
   ]
  },
  {
   "cell_type": "code",
   "execution_count": null,
   "id": "a5f7b545",
   "metadata": {},
   "outputs": [],
   "source": [
    "labelled_data_R = labelled_data_R.drop(columns = ['easting','northing','localAuthority'])"
   ]
  },
  {
   "cell_type": "code",
   "execution_count": null,
   "id": "1ef3881a",
   "metadata": {},
   "outputs": [],
   "source": [
    "labelled_data_R#.R.dtypes"
   ]
  },
  {
   "cell_type": "markdown",
   "id": "90eca033",
   "metadata": {},
   "source": [
    "# Now we're going to display our points with a colour that depends on R and varies from white to dark blue. We can choose the range of values we want to display for R, and the colour scale will adjust automatically. By clicking on the points, we obtain the characteristics "
   ]
  },
  {
   "cell_type": "code",
   "execution_count": null,
   "id": "b690d617",
   "metadata": {
    "scrolled": false
   },
   "outputs": [],
   "source": [
    "import folium\n",
    "import ipywidgets as widgets\n",
    "from IPython.display import display\n",
    "\n",
    "def calculate_color(R, R_min, R_max):\n",
    "    normalized_R = (R - R_min) / (R_max - R_min) if R_max > R_min else 0\n",
    "    red = int((1 - normalized_R) * 255)\n",
    "    green = int((1 - normalized_R) * 255)\n",
    "    blue = 255\n",
    "    return f'#{red:02x}{green:02x}{blue:02x}'\n",
    "\n",
    "def update_map(R_min_filter, R_max_filter):\n",
    "    m = folium.Map(location=[labelled_data_R[\"latitude\"].mean(), labelled_data_R[\"longitude\"].mean()], zoom_start=6)\n",
    "    \n",
    "    for idx, row in labelled_data_R.iterrows():\n",
    "        if R_min_filter <= row['R'] <= R_max_filter:\n",
    "            color = calculate_color(row['R'], R_min_filter, R_max_filter)\n",
    "            popup_text = f\"Postcode: {row['postcode']}, R-value: {row['R']}, medianPrice: {row['medianPrice']}, historicallyFlooded: {row['historicallyFlooded']}\"\n",
    "            folium.CircleMarker(\n",
    "                location=(row[\"latitude\"], row[\"longitude\"]),\n",
    "                radius=5,\n",
    "                color=color,\n",
    "                fill=True,\n",
    "                fill_color=color,\n",
    "                popup=folium.Popup(popup_text, parse_html=True)\n",
    "            ).add_to(m)\n",
    "    \n",
    "    display(m)\n",
    "\n",
    "R_min_widget = widgets.FloatSlider(value=labelled_data_R['R'].min(), min=labelled_data_R['R'].min(), max=labelled_data_R['R'].max(), description='R min:', continuous_update=False)\n",
    "R_max_widget = widgets.FloatSlider(value=labelled_data_R['R'].max(), min=labelled_data_R['R'].min(), max=labelled_data_R['R'].max(), description='R max:', continuous_update=False)\n",
    "\n",
    "ui = widgets.VBox([R_min_widget, R_max_widget])\n",
    "out = widgets.interactive_output(update_map, {'R_min_filter': R_min_widget, 'R_max_filter': R_max_widget})\n",
    "\n",
    "display(ui, out)\n",
    "\n"
   ]
  }
 ],
 "metadata": {
  "kernelspec": {
   "display_name": "Python 3 (ipykernel)",
   "language": "python",
   "name": "python3"
  },
  "language_info": {
   "codemirror_mode": {
    "name": "ipython",
    "version": 3
   },
   "file_extension": ".py",
   "mimetype": "text/x-python",
   "name": "python",
   "nbconvert_exporter": "python",
   "pygments_lexer": "ipython3",
   "version": "3.11.0"
  }
 },
 "nbformat": 4,
 "nbformat_minor": 5
}
